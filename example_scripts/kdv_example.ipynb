{
 "cells": [
  {
   "cell_type": "markdown",
   "id": "decent-terror",
   "metadata": {},
   "source": [
    "# Pseudo-Hamiltonian neural networks for PDEs"
   ]
  },
  {
   "cell_type": "markdown",
   "id": "e22c6980",
   "metadata": {},
   "source": [
    "In this notebook, we will give an example of how to setup and train a neural network on to learn the KdV–Burgers equation using `phlearn`. We will also demonstrate how to add an external force to the system, which can also be learnt by the pseudo-Hamiltonian framework. \n",
    "\n",
    "For details, see (Eidnes and Lye, 2023)."
   ]
  },
  {
   "cell_type": "code",
   "execution_count": null,
   "id": "8f119a43",
   "metadata": {},
   "outputs": [],
   "source": [
    "# Uncomment for local install: \n",
    "%pip install -e ../phlearn "
   ]
  },
  {
   "cell_type": "code",
   "execution_count": null,
   "id": "conceptual-senator",
   "metadata": {},
   "outputs": [],
   "source": [
    "import numpy as np\n",
    "import torch\n",
    "import phlearn.phsystems as phsys\n",
    "import phlearn.phnns as phnn\n",
    "import matplotlib.pyplot as plt\n",
    "from phlearn.utils import create_video\n",
    "from scipy.sparse import diags, spdiags\n",
    "\n",
    "ttype = torch.float32\n",
    "torch.set_default_dtype(ttype)"
   ]
  },
  {
   "cell_type": "code",
   "execution_count": null,
   "id": "8b0df6de",
   "metadata": {},
   "outputs": [],
   "source": [
    "make_videos = False"
   ]
  },
  {
   "cell_type": "markdown",
   "id": "002dbcad",
   "metadata": {},
   "source": [
    "### Learning a KdV system"
   ]
  },
  {
   "cell_type": "markdown",
   "id": "9f30e58e",
   "metadata": {},
   "source": [
    "We show first how to learn a system governed by the Korteweg–de Vries (KdV) equation\n",
    "$$\n",
    "u_t + \\eta u u_x + \\gamma^2 u_{xxx} = 0,\n",
    "$$\n",
    "\n",
    "with initial condition $u(x,0) = u_0(x)$ and periodic boundary conditions $u(P,t) = u(0,t)$."
   ]
  },
  {
   "cell_type": "markdown",
   "id": "3ddfbb35",
   "metadata": {},
   "source": [
    "#### Set up the system\n",
    "\n",
    "Below is an example of how to set up a Hamiltonian PDE system using the ConservativeDissipativeSystem() class. The below block sets up the differential equation that will be used to generate the data."
   ]
  },
  {
   "cell_type": "code",
   "execution_count": null,
   "id": "5d97328e",
   "metadata": {},
   "outputs": [],
   "source": [
    "period = 20\n",
    "spatial_points = 100\n",
    "x = np.linspace(0, period-period/spatial_points, spatial_points)\n",
    "\n",
    "def setup_KdV_system(x=x, eta=6., gamma=1., nu=0.):\n",
    "    \n",
    "    M = x.size\n",
    "    dx = x[-1]/(M-1)\n",
    "    e = np.ones(M)\n",
    "    Dp = 1/dx*spdiags([e,-e,e], np.array([-M+1,0,1]), M, M).toarray() # Forward difference matrix\n",
    "    D1 = .5/dx*spdiags([e,-e,e,-e], np.array([-M+1,-1,1,M-1]), M, M).toarray() # Central difference matrix\n",
    "    D2 = 1/dx**2*spdiags([e,e,-2*e,e,e], np.array([-M+1,-1,0,1,M-1]), M, M).toarray() # 2nd order central difference matrix\n",
    "\n",
    "    def hamiltonian(u):\n",
    "        return np.sum(-1/6*eta*u**3 + (.5*gamma**2*(np.matmul(Dp,u.T))**2).T, axis=-1)\n",
    "\n",
    "    def hamiltonian_grad(u):\n",
    "        return -.5*eta*u**2 - (gamma**2 * u @ D2)\n",
    "    \n",
    "    def initial_condition():\n",
    "        P = (x[-1]-x[0])*M/(M-1)\n",
    "        sech = lambda a: 1/np.cosh(a)\n",
    "        def sampler(rng):\n",
    "            k1, k2 = rng.uniform(0.5, 2.0, 2)\n",
    "            d1, d2 = rng.uniform(0., 1., 1), rng.uniform(0., 1., 1)\n",
    "            u0 = 0\n",
    "            u0 += (-6./-eta)*2 * k1**2 * sech(np.abs(k1 * ((x+P/2-P*d1) % P - P/2)))**2\n",
    "            u0 += (-6./-eta)*2 * k2**2 * sech(np.abs(k2 * ((x+P/2-P*d2) % P - P/2)))**2\n",
    "            u0 = np.concatenate([u0[M:], u0[:M]], axis=-1)\n",
    "            return u0\n",
    "        return sampler\n",
    "\n",
    "    KdV_system = phsys.ConservativeDissipativeSystem(\n",
    "        nstates=M,\n",
    "        skewsymmetric_matrix=D1,\n",
    "        hamiltonian=hamiltonian,\n",
    "        grad_hamiltonian=hamiltonian_grad,\n",
    "        init_sampler=initial_condition()\n",
    "    )\n",
    "\n",
    "    return KdV_system\n",
    "\n",
    "\n",
    "KdV_system = setup_KdV_system()"
   ]
  },
  {
   "cell_type": "markdown",
   "id": "e1ce788f",
   "metadata": {},
   "source": [
    "#### Generate training data\n",
    "\n",
    "Use the `KdV_system` instance to generate training data, which are numerical solutions to the exact PDE.  "
   ]
  },
  {
   "cell_type": "code",
   "execution_count": null,
   "id": "e13d2fa4",
   "metadata": {},
   "outputs": [],
   "source": [
    "def get_training_data(system, data_points=20, dt=.05, tmax=.05, x=x):\n",
    "    nt = round(tmax / dt)\n",
    "    t_axis = np.linspace(0, tmax, nt + 1)\n",
    "    ntrajectories_train = int(np.ceil(data_points / nt))\n",
    "    traindata = phnn.generate_dataset(system, ntrajectories_train, t_axis, xspatial=x)\n",
    "    return traindata, t_axis\n",
    "\n",
    "traindata, t_axis = get_training_data(KdV_system)"
   ]
  },
  {
   "cell_type": "markdown",
   "id": "3a379aae",
   "metadata": {},
   "source": [
    "#### Set up the pseudo-Hamiltonian neural network\n",
    "We set the kernel sizes of the operators applied to the left-hand side of the PDE, the variational derivative of the Hamiltonian, and the variational derivative of the dissipation integral, respectively.\n",
    "\n",
    "We will allow additional keyword arguments to be passed to ConservativeDissipativeNN() so we have the option of adding a dissipative term and an external force to the model."
   ]
  },
  {
   "cell_type": "code",
   "execution_count": null,
   "id": "8ab6d1e1",
   "metadata": {},
   "outputs": [],
   "source": [
    "def setup_pseudo_hamiltonian_nn(kernel_sizes, **kwargs):\n",
    "    phmodel = phnn.ConservativeDissipativeNN(\n",
    "        spatial_points,\n",
    "        kernel_sizes,\n",
    "        **kwargs,\n",
    "    )\n",
    "    return phmodel\n",
    "\n",
    "kernel_sizes = [1, 3, 0, 0]\n",
    "phmodel = setup_pseudo_hamiltonian_nn(kernel_sizes)"
   ]
  },
  {
   "cell_type": "markdown",
   "id": "342992c4",
   "metadata": {},
   "source": [
    "#### Setup a baseline model\n",
    "To compare against ConservativeDissiaptiveNN() , we will create a baseline model which will approximate the dynamics using a standard fully connected multilayer perceptron. "
   ]
  },
  {
   "cell_type": "code",
   "execution_count": null,
   "id": "e6e521a3",
   "metadata": {},
   "outputs": [],
   "source": [
    "def setup_baseline_nn(**kwargs):\n",
    "    baseline_nn = phnn.PDEBaselineNN(spatial_points, **kwargs)\n",
    "    basemodel = phnn.DynamicSystemNN(spatial_points, baseline_nn)\n",
    "    return basemodel\n",
    "\n",
    "basemodel = setup_baseline_nn()"
   ]
  },
  {
   "cell_type": "markdown",
   "id": "18a8f4a1",
   "metadata": {},
   "source": [
    "#### Train the models"
   ]
  },
  {
   "cell_type": "code",
   "execution_count": null,
   "id": "f3b29ddd",
   "metadata": {
    "scrolled": true
   },
   "outputs": [],
   "source": [
    "def train_models(*models, epochs=200, batch_size=32, **kwargs):\n",
    "    for model in models:\n",
    "        model, _ = phnn.train(\n",
    "            model,\n",
    "            integrator=\"midpoint\",\n",
    "            traindata=traindata,\n",
    "            epochs=epochs,\n",
    "            batch_size=batch_size,\n",
    "            **kwargs\n",
    "        )\n",
    "    return models\n",
    "\n",
    "phmodel, basemodel = train_models(phmodel, basemodel, epochs=1000)"
   ]
  },
  {
   "cell_type": "markdown",
   "id": "150df002",
   "metadata": {},
   "source": [
    "#### Plot the results\n",
    "\n",
    "We compare the learned model against the true PDE by integrating from an initial condition not in the training data and on a longer time period thain in the training data."
   ]
  },
  {
   "cell_type": "code",
   "execution_count": null,
   "id": "f328dad4",
   "metadata": {},
   "outputs": [],
   "source": [
    "def get_solutions(system, phmodel, basemodel, u0, t_axis):\n",
    "    u_exact, *_ = system.sample_trajectory(t_axis, x0=u0)\n",
    "    u_phnn, _ = phmodel.simulate_trajectory(integrator=False, t_sample=t_axis, x0=u0, xspatial=x)\n",
    "    if basemodel is not None:\n",
    "        u_baseline, _ = basemodel.simulate_trajectory(\n",
    "            integrator=False, t_sample=t_axis, x0=u0, xspatial=x\n",
    "        )\n",
    "    else:\n",
    "        u_baseline = None\n",
    "    return u_exact, u_phnn, u_baseline\n",
    "\n",
    "\n",
    "def plot_solutions(u_exact, u_model, t_axis, model='', y=None):\n",
    "    N = u_exact.shape[0]\n",
    "    fig = plt.figure(figsize=(7,4))\n",
    "    lw = 2\n",
    "    colors = [(0,0.4,1),(1,0.7,0.3),(0.2,0.7,0.2),(0.8,0,0.2),(0.5,0.3,.9)]\n",
    "    if N > 1:\n",
    "        plt.plot(x, u_exact[0,:], 'k--', linewidth=lw, label='t = 0')\n",
    "        plt.plot(x, u_exact[int(N/4),:], color = colors[1], linestyle='--', linewidth=lw, label=f't = {1/4*t_axis[-1]}, true')  \n",
    "        plt.plot(x, u_exact[int(N/2),:], color = colors[2], linestyle='--', linewidth=lw, label=f't = {1/2*t_axis[-1]}, true')  \n",
    "        plt.plot(x, u_exact[int(3*N/4),:], color = colors[3], linestyle='--', linewidth=lw, label=f't = {3/4*t_axis[-1]}, true')  \n",
    "        plt.plot(x, u_exact[-1,:], color = colors[4], linestyle='--', linewidth=lw, label=f't = {t_axis[-1]}, true')  \n",
    "        plt.plot(x, u_model[int(N/4),:], color = colors[1], linestyle='-', linewidth=lw, label=f't = {1/4*t_axis[-1]}, model')  \n",
    "        plt.plot(x, u_model[int(N/2),:], color = colors[2], linestyle='-', linewidth=lw, label=f't = {1/2*t_axis[-1]}, model')  \n",
    "        plt.plot(x, u_model[int(3*N/4),:], color = colors[3], linestyle='-', linewidth=lw, label=f't = {3/4*t_axis[-1]}, model')  \n",
    "        plt.plot(x, u_model[-1,:], color = colors[4], linestyle='-', linewidth=lw, label=f't = {t_axis[-1]}, model')\n",
    "    else:\n",
    "        plt.plot(x, u_exact[0,:], 'k--', linewidth=lw, label='True')\n",
    "        plt.plot(x, u_model[0,:], color = colors[4], linestyle='-', linewidth=lw, label='Model')\n",
    "    plt.xlabel('$x$', fontsize=12)\n",
    "    plt.ylabel('$u$' if y is None else y, fontsize=12)\n",
    "    plt.title(model+' model vs. ground truth', fontsize=14)\n",
    "    plt.legend()\n",
    "    plt.show()\n",
    "\n",
    "k1, k2 = 1., .75\n",
    "d1, d2 = .25, .5\n",
    "eta = 6.\n",
    "P = (x[-1]-x[0])*x.size/(x.size-1)\n",
    "u0 = (-6./-eta)*2*k1**2 * 1/np.cosh(k1*(x-P*d1))**2\n",
    "u0 += (-6./-eta)*2*k2**2 * 1/np.cosh(k2*(x-P*d2))**2\n",
    "t_test = np.linspace(0, 2, 201)\n",
    "\n",
    "u_exact, u_phnn, u_baseline = get_solutions(KdV_system, phmodel, basemodel, u0, t_test)\n",
    "plot_solutions(u_exact, u_phnn, t_test, 'PHNN')\n",
    "plot_solutions(u_exact, u_baseline, t_test, 'Baseline')"
   ]
  },
  {
   "cell_type": "code",
   "execution_count": null,
   "id": "bd19025b",
   "metadata": {},
   "outputs": [],
   "source": [
    "if make_videos:\n",
    "    create_video([u_exact, u_phnn, u_baseline], ['Ground truth', 'PHNN', 'Baseline'], x_axis=x,\n",
    "                 file_name='pure_kdv.gif', output_format='GIF')"
   ]
  },
  {
   "cell_type": "markdown",
   "id": "ccebf9fd",
   "metadata": {},
   "source": [
    "### Learning a KdV-Burgers system with an external force"
   ]
  },
  {
   "cell_type": "markdown",
   "id": "ed93cc20",
   "metadata": {},
   "source": [
    "We now test the PHNN model on a KdV–Burgers system, i.e. a KdV system with a viscosity term, with a space-dependent external force acting on the system:\n",
    "$$\n",
    "u_t + \\eta u u_x - \\nu u_{xx} + \\gamma^2 u_{xxx} = f(x, t).\n",
    "$$"
   ]
  },
  {
   "cell_type": "code",
   "execution_count": null,
   "id": "112ab709",
   "metadata": {},
   "outputs": [],
   "source": [
    "nu = 0.3\n",
    "def F(u, t):\n",
    "    return .6*np.sin(2*2*np.pi/period*x)\n",
    "# def F(u, t):\n",
    "#     t = np.reshape(t,(-1,1))\n",
    "#     return .6*np.sin(2*2*np.pi/period*x-t).reshape(u.shape)\n",
    "kernel_sizes = [1, 3, 1, 1]"
   ]
  },
  {
   "cell_type": "code",
   "execution_count": null,
   "id": "8dd66d23",
   "metadata": {},
   "outputs": [],
   "source": [
    "def setup_KdV_Burgers_system(x=x, eta=6., gamma=1., nu=0, force=None):\n",
    "    \n",
    "    M = x.size\n",
    "    dx = x[-1]/(M-1)\n",
    "    e = np.ones(M)\n",
    "    Dp = 1/dx*spdiags([e,-e,e], np.array([-M+1,0,1]), M, M).toarray() # Forward difference matrix\n",
    "    D1 = .5/dx*spdiags([e,-e,e,-e], np.array([-M+1,-1,1,M-1]), M, M).toarray() # Central difference matrix\n",
    "    D2 = 1/dx**2*spdiags([e,e,-2*e,e,e], np.array([-M+1,-1,0,1,M-1]), M, M).toarray() # 2nd order central difference matrix\n",
    "\n",
    "    def hamiltonian(u):\n",
    "        return np.sum(-1/6*eta*u**3 + (.5*gamma**2*(np.matmul(Dp,u.T))**2).T, axis=-1)\n",
    "    \n",
    "    def dissintegral(u):\n",
    "        return np.sum(.5*nu*(np.matmul(Dp,u.T)**2).T, axis=-1)\n",
    "\n",
    "    def hamiltonian_grad(u):\n",
    "        return -.5*eta*u**2 - (gamma**2 * u @ D2)\n",
    "    \n",
    "    def dissintegral_grad(u):\n",
    "        return -nu*u @ D2\n",
    "    \n",
    "    def initial_condition():\n",
    "        P = (x[-1]-x[0])*M/(M-1)\n",
    "        sech = lambda a: 1/np.cosh(a)\n",
    "        def sampler(rng):\n",
    "            k1, k2 = rng.uniform(0.5, 2.0, 2)\n",
    "            d1, d2 = rng.uniform(0., 1., 1), rng.uniform(0., 1., 1)\n",
    "            u0 = 0\n",
    "            u0 += (-6./-eta)*2 * k1**2 * sech(np.abs(k1 * ((x+P/2-P*d1) % P - P/2)))**2\n",
    "            u0 += (-6./-eta)*2 * k2**2 * sech(np.abs(k2 * ((x+P/2-P*d2) % P - P/2)))**2\n",
    "            u0 = np.concatenate([u0[M:], u0[:M]], axis=-1)\n",
    "            return u0\n",
    "        return sampler\n",
    "\n",
    "    KdV_Burgers_system = phsys.ConservativeDissipativeSystem(\n",
    "        nstates=M,\n",
    "        skewsymmetric_matrix=D1,\n",
    "        hamiltonian=hamiltonian,\n",
    "        grad_hamiltonian=hamiltonian_grad,\n",
    "        dissintegral=dissintegral,\n",
    "        grad_dissintegral=dissintegral_grad,\n",
    "        external_forces=force,\n",
    "        init_sampler=initial_condition()\n",
    "    )\n",
    "\n",
    "    return KdV_Burgers_system\n",
    "\n",
    "KdV_Burgers_system = setup_KdV_Burgers_system(nu=nu, force=F)"
   ]
  },
  {
   "cell_type": "code",
   "execution_count": null,
   "id": "69423eee",
   "metadata": {},
   "outputs": [],
   "source": [
    "ext_forces_nn = phnn.PDEExternalForcesNN(spatial_points, hidden_dim=100,\n",
    "                                    timedependent=True, spacedependent=True, statedependent=False,\n",
    "                                    period=period)\n",
    "phmodel = setup_pseudo_hamiltonian_nn(kernel_sizes, external_forces_est=ext_forces_nn)\n",
    "basemodel = setup_baseline_nn(spacedependent=True, period=period)\n",
    "traindata, t_axis = get_training_data(KdV_Burgers_system)\n",
    "phmodel, basemodel = train_models(phmodel, basemodel, epochs=1000)"
   ]
  },
  {
   "cell_type": "code",
   "execution_count": null,
   "id": "ebd3898c",
   "metadata": {
    "scrolled": false
   },
   "outputs": [],
   "source": [
    "u_exact, u_phnn, u_baseline = get_solutions(KdV_Burgers_system, phmodel, basemodel, u0, t_test)\n",
    "plot_solutions(u_exact, u_phnn, t_test, 'PHNN')\n",
    "plot_solutions(u_exact, u_baseline, t_test, 'Baseline')"
   ]
  },
  {
   "cell_type": "code",
   "execution_count": null,
   "id": "effc668a",
   "metadata": {},
   "outputs": [],
   "source": [
    "if make_videos:\n",
    "    create_video([u_exact, u_phnn, u_baseline], ['Ground truth', 'PHNN', 'Baseline'], x_axis=x,\n",
    "                 file_name='forced_kdv_burgers.gif', output_format='GIF')"
   ]
  },
  {
   "cell_type": "code",
   "execution_count": null,
   "id": "cc7119f0",
   "metadata": {},
   "outputs": [],
   "source": [
    "F_exact = KdV_Burgers_system.external_forces(u_exact, t_test).reshape(1,-1)\n",
    "F_phnn = phmodel.external_forces(torch.tensor(u_phnn.reshape(-1,1,u_phnn.shape[-1]), dtype=ttype),\n",
    "                               torch.tensor(t_test.reshape(-1,1,1),dtype=ttype),\n",
    "                               torch.tensor(np.tile(x.reshape(-1, 1, 1), u_phnn.shape[0]).T, dtype=ttype)\n",
    "                              ).detach().numpy().reshape(u_phnn.shape)\n",
    "if kernel_sizes[0] > 1:\n",
    "    d = int((kernel_sizes[0]-1)/2)\n",
    "    M = x.size\n",
    "    D_flat = phmodel.D_flat().detach().numpy()\n",
    "    diagonals = np.concatenate([D_flat[0,:,(d+1):], D_flat[0], D_flat[0,:,:-(d+1)]], axis=1).T.repeat(M, axis=1)\n",
    "    offsets = np.concatenate([np.arange(-M+1,-M+1+d),np.arange(-d,d+1),np.arange(M-d,M)])\n",
    "    D = diags(diagonals, offsets, (M,M)).toarray()\n",
    "    DDinvF_phnn = np.matmul(KdV_Burgers_system.lhs_matrix, np.linalg.solve(D, F_phnn.T)).T\n",
    "    plot_solutions(F_exact, DDinvF_phnn, t_test, 'PHNN', 'External force')\n",
    "else:\n",
    "    plot_solutions(F_exact, F_phnn, t_test, 'PHNN', 'External force')"
   ]
  },
  {
   "cell_type": "markdown",
   "id": "22c5d1ca",
   "metadata": {},
   "source": [
    "#### Removing the forces"
   ]
  },
  {
   "cell_type": "markdown",
   "id": "24eda719",
   "metadata": {},
   "source": [
    "Since we learned the external forces by a separate neural network in the PHNN model, we can remove this from the model and compare to the exact system without forces:"
   ]
  },
  {
   "cell_type": "code",
   "execution_count": null,
   "id": "ae0d321a",
   "metadata": {},
   "outputs": [],
   "source": [
    "phmodel_no_force = setup_pseudo_hamiltonian_nn(kernel_sizes=kernel_sizes[:3]+[0],\n",
    "                                               structure_matrix=phmodel.S(),\n",
    "                                               dissipation_matrix=phmodel.P(),\n",
    "                                               symmetric_matrix=phmodel.D_flat(),\n",
    "                                               hamiltonian_true=phmodel.hamiltonian,\n",
    "                                               grad_hamiltonian_true=phmodel.dH,\n",
    "                                               dissintegral_true=phmodel.dissintegral,\n",
    "                                               grad_dissintegral_true=phmodel.dV\n",
    "                                              )\n",
    "\n",
    "KdV_Burgers_system = setup_KdV_Burgers_system(nu=nu, force=None)\n",
    "u_exact, u_phnn, _ = get_solutions(KdV_Burgers_system, phmodel_no_force, None, u0, t_test)\n",
    "plot_solutions(u_exact, u_phnn, t_test, 'PHNN')"
   ]
  },
  {
   "cell_type": "code",
   "execution_count": null,
   "id": "6ad608a6",
   "metadata": {},
   "outputs": [],
   "source": [
    "if make_videos:\n",
    "    create_video([u_exact, u_phnn], ['Ground truth', 'PHNN'],\n",
    "                 x_axis=x, file_name='kdv_burgers.gif', output_format='GIF')"
   ]
  },
  {
   "cell_type": "markdown",
   "id": "314db92f",
   "metadata": {},
   "source": [
    "We can also remove the dissipation term an obtain a model for the system without viscosity, which corresponds to a KdV system:"
   ]
  },
  {
   "cell_type": "code",
   "execution_count": null,
   "id": "4e633ae9",
   "metadata": {},
   "outputs": [],
   "source": [
    "phmodel_no_force_or_visc = setup_pseudo_hamiltonian_nn(kernel_sizes=kernel_sizes[:2]+[0,0],\n",
    "                                                       structure_matrix=phmodel.S(),\n",
    "                                                       symmetric_matrix=phmodel.D_flat(),\n",
    "                                                       hamiltonian_true=phmodel.hamiltonian,\n",
    "                                                       grad_hamiltonian_true=phmodel.dH,\n",
    "                                                      )\n",
    "\n",
    "u_exact, u_phnn, _ = get_solutions(KdV_system, phmodel_no_force_or_visc, None, u0, t_test)\n",
    "plot_solutions(u_exact, u_phnn, t_test, 'PHNN')"
   ]
  },
  {
   "cell_type": "code",
   "execution_count": null,
   "id": "bc612c92",
   "metadata": {},
   "outputs": [],
   "source": [
    "if make_videos:\n",
    "    create_video([u_exact, u_phnn], ['Ground truth', 'PHNN'],\n",
    "                 x_axis=x, file_name='kdv.gif', output_format='GIF')"
   ]
  },
  {
   "cell_type": "code",
   "execution_count": null,
   "id": "5d40410c",
   "metadata": {},
   "outputs": [],
   "source": []
  }
 ],
 "metadata": {
  "kernelspec": {
   "display_name": "base",
   "language": "python",
   "name": "python3"
  },
  "language_info": {
   "codemirror_mode": {
    "name": "ipython",
    "version": 3
   },
   "file_extension": ".py",
   "mimetype": "text/x-python",
   "name": "python",
   "nbconvert_exporter": "python",
   "pygments_lexer": "ipython3",
   "version": "3.10.9"
  }
 },
 "nbformat": 4,
 "nbformat_minor": 5
}

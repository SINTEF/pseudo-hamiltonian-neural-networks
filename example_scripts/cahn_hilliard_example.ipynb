{
 "cells": [
  {
   "cell_type": "markdown",
   "id": "decent-terror",
   "metadata": {},
   "source": [
    "# Pseudo-Hamiltonian neural networks for PDEs"
   ]
  },
  {
   "cell_type": "markdown",
   "id": "e22c6980",
   "metadata": {},
   "source": [
    "In this notebook, we will give an example of how to setup and train a neural network on to learn the Cahn–Hilliard equation using `phlearn`. We will also demonstrate how to add an external force to the system, which can also be learnt by the pseudo-Hamiltonian framework. \n",
    "\n",
    "For details, see [\"Pseudo-Hamiltonian neural networks for learning partial differential equations\"](https://arxiv.org/abs/2304.14374)."
   ]
  },
  {
   "cell_type": "code",
   "execution_count": null,
   "id": "8f119a43",
   "metadata": {},
   "outputs": [],
   "source": [
    "# Uncomment for local install: \n",
    "# %pip install -e ../phlearn "
   ]
  },
  {
   "cell_type": "code",
   "execution_count": null,
   "id": "conceptual-senator",
   "metadata": {},
   "outputs": [],
   "source": [
    "import numpy as np\n",
    "import torch\n",
    "import phlearn.phsystems.pde as phsys\n",
    "import phlearn.phnns as phnn\n",
    "import matplotlib.pyplot as plt\n",
    "from phlearn.utils import create_video\n",
    "from scipy.sparse import spdiags\n",
    "\n",
    "ttype = torch.float32\n",
    "torch.set_default_dtype(ttype)"
   ]
  },
  {
   "cell_type": "code",
   "execution_count": null,
   "id": "b70e99f3",
   "metadata": {},
   "outputs": [],
   "source": [
    "make_videos = False"
   ]
  },
  {
   "cell_type": "markdown",
   "id": "002dbcad",
   "metadata": {},
   "source": [
    "### Learning a Cahn–Hilliard system"
   ]
  },
  {
   "cell_type": "markdown",
   "id": "9f30e58e",
   "metadata": {},
   "source": [
    "In this notebook, we consider the one-dimensional (forced) Cahn–Hilliard equation. It is given by\n",
    "\\begin{equation}\n",
    "u_t  - (\\nu u + \\alpha u^3 + \\mu u_{xx})_{xx} = f(x,t).\n",
    "\\label{eq:ac} \\tag{1}\n",
    "\\end{equation}\n",
    "If $f(x,t) = 0$, we have the standard, i.e. unforced, Cahn–Hilliard equation.\n",
    "\n",
    "We have\n",
    "$$\n",
    "\\begin{align*}\n",
    "\\mathcal{V}[u] &= \\frac{1}{2} \\int_\\mathbb{R} \\left(\\nu u^2 + \\frac{1}{2}\\alpha u^4  - \\mu u_x^2\\right)\\, dx.\n",
    "\\end{align*}\n",
    "$$\n",
    "\n",
    "Also including the force term, we can write the equation on the form\n",
    "$$\n",
    "u_t = \\frac{\\partial^2}{\\partial x^2} \\dfrac{\\delta \\mathcal{V}}{\\delta u}[u] + g(x,t),\n",
    "$$\n",
    "since\n",
    "$$\n",
    "\\begin{equation*}\n",
    "\\frac{\\delta\\mathcal{V}}{\\delta u}[u] = \\nu u + \\alpha u^3 + \\mu u_{xx}.\n",
    "\\end{equation*}\n",
    "$$"
   ]
  },
  {
   "cell_type": "markdown",
   "id": "3ddfbb35",
   "metadata": {},
   "source": [
    "#### Set up the system\n",
    "\n",
    "Below is an example of how to set up a Hamiltonian PDE system using the PseudoHamiltonianPDESystem() class. The below block sets up the differential equation that will be used to generate the data."
   ]
  },
  {
   "cell_type": "code",
   "execution_count": null,
   "id": "5d97328e",
   "metadata": {},
   "outputs": [],
   "source": [
    "period = 1\n",
    "spatial_points = 100\n",
    "x = np.linspace(0, period-period/spatial_points, spatial_points)\n",
    "\n",
    "def setup_CahnHilliard_system(x=x, nu=-1., alpha= 1., mu=-.001, force=None):\n",
    "    \n",
    "    M = x.size\n",
    "    dx = x[-1]/(M-1)\n",
    "    e = np.ones(M)\n",
    "    Dp = 1/dx*spdiags([e,-e,e], np.array([-M+1,0,1]), M, M).toarray() # Forward difference matrix\n",
    "    D1 = .5/dx*spdiags([e,-e,e,-e], np.array([-M+1,-1,1,M-1]), M, M).toarray() # Central difference matrix\n",
    "    D2 = 1/dx**2*spdiags([e,e,-2*e,e,e], np.array([-M+1,-1,0,1,M-1]), M, M).toarray() # 2nd order central difference matrix\n",
    "\n",
    "    def dissintegral(u):\n",
    "        return 1/2*np.sum(nu*u**2 + 1/2*alpha*u**4 - mu*(np.matmul(Dp,u.T)**2).T, axis=1)\n",
    "\n",
    "    def dissintegral_grad(u):\n",
    "        return nu*u + alpha*u**3 + mu*u@D2\n",
    "    \n",
    "    def initial_condition():\n",
    "        M = x.size\n",
    "        P = (x[-1]-x[0])*M/(M-1)\n",
    "        def sampler(rng):\n",
    "            a1, a2 = rng.uniform(0.01, .05, 2)\n",
    "            a3, a4 = rng.uniform(0.01, .2, 2)\n",
    "            k1, k2, k3, k4 = rng.integers(1, 6, 4)\n",
    "            u0 = 0\n",
    "            u0 += a1*np.cos(2*k1*np.pi/P*x)\n",
    "            u0 += a2*np.cos(2*k2*np.pi/P*x)\n",
    "            u0 += a3*np.sin(2*k3*np.pi/P*x)\n",
    "            u0 += a4*np.sin(2*k4*np.pi/P*x)\n",
    "            return u0\n",
    "        return sampler\n",
    "\n",
    "    CahnHilliard_system = phsys.PseudoHamiltonianPDESystem(\n",
    "        nstates=M,\n",
    "        dissipation_matrix=-D2,\n",
    "        dissintegral=dissintegral,\n",
    "        grad_dissintegral=dissintegral_grad,\n",
    "        external_forces=force,\n",
    "        init_sampler=initial_condition()\n",
    "    )\n",
    "\n",
    "    return CahnHilliard_system\n",
    "\n",
    "# CahnHilliard_system = setup_CahnHilliard_system()\n",
    "# It is more efficient to generate data using the implicit midpoint method,\n",
    "# as in implemented in the phlearn package:\n",
    "CahnHilliard_system = phsys.CahnHilliardSystem()"
   ]
  },
  {
   "cell_type": "markdown",
   "id": "e1ce788f",
   "metadata": {},
   "source": [
    "#### Generate training data\n",
    "\n",
    "Use the `CahnHilliard_system` instance to generate training data, which are numerical solutions to the exact PDE.  "
   ]
  },
  {
   "cell_type": "code",
   "execution_count": null,
   "id": "e13d2fa4",
   "metadata": {},
   "outputs": [],
   "source": [
    "def get_training_data(system, data_points=40, dt=.004, tmax=.004, x=x):\n",
    "    nt = round(tmax / dt)\n",
    "    t_axis = np.linspace(0, tmax, nt + 1)\n",
    "    ntrajectories_train = int(np.ceil(data_points / nt))\n",
    "    traindata = phnn.generate_dataset(system, ntrajectories_train, t_axis, xspatial=x)\n",
    "    return traindata, t_axis\n",
    "\n",
    "traindata, t_axis = get_training_data(CahnHilliard_system)"
   ]
  },
  {
   "cell_type": "markdown",
   "id": "3a379aae",
   "metadata": {},
   "source": [
    "#### Set up the pseudo-Hamiltonian neural network\n",
    "We set the kernel sizes of the operators applied to the left-hand side of the PDE, the variational derivative of the Hamiltonian, and the variational derivative of the dissipation integral, respectively.\n",
    "\n",
    "We will allow additional keyword arguments to be passed to PseudoHamiltonianPDENN() so we have the option of adding a dissipative term and an external force to the model."
   ]
  },
  {
   "cell_type": "code",
   "execution_count": null,
   "id": "8ab6d1e1",
   "metadata": {},
   "outputs": [],
   "source": [
    "def setup_pseudo_hamiltonian_nn(kernel_sizes, **kwargs):\n",
    "    dx = x[-1]/(spatial_points-1)\n",
    "    phmodel = phnn.PseudoHamiltonianPDENN(\n",
    "        spatial_points,\n",
    "        kernel_sizes,\n",
    "        #dissipation_matrix=-1/dx**2*np.array([[[1,-2,1]]]),\n",
    "        **kwargs,\n",
    "    )\n",
    "    return phmodel\n",
    "\n",
    "kernel_sizes = [1, 0, 3, 0]\n",
    "phmodel = setup_pseudo_hamiltonian_nn(kernel_sizes,\n",
    "                                      dissipation_matrix=CahnHilliard_system.dissipation_matrix_flat)"
   ]
  },
  {
   "cell_type": "markdown",
   "id": "342992c4",
   "metadata": {},
   "source": [
    "#### Setup a baseline model\n",
    "To compare against ConservativeDissiaptiveNN() , we will create a baseline model which will approximate the dynamics using a standard fully connected multilayer perceptron. "
   ]
  },
  {
   "cell_type": "code",
   "execution_count": null,
   "id": "e6e521a3",
   "metadata": {},
   "outputs": [],
   "source": [
    "def setup_baseline_nn(**kwargs):\n",
    "    baseline_nn = phnn.PDEBaselineNN(spatial_points, **kwargs)\n",
    "    basemodel = phnn.DynamicSystemNN(spatial_points, baseline_nn)\n",
    "    return basemodel\n",
    "\n",
    "basemodel = setup_baseline_nn()"
   ]
  },
  {
   "cell_type": "markdown",
   "id": "18a8f4a1",
   "metadata": {},
   "source": [
    "#### Train the models"
   ]
  },
  {
   "cell_type": "code",
   "execution_count": null,
   "id": "f3b29ddd",
   "metadata": {
    "scrolled": true
   },
   "outputs": [],
   "source": [
    "def train_models(*models, epochs=500, batch_size=32, **kwargs):\n",
    "    for model in models:\n",
    "        model, _ = phnn.train(\n",
    "            model,\n",
    "            integrator=\"midpoint\",\n",
    "            traindata=traindata,\n",
    "            epochs=epochs,\n",
    "            batch_size=batch_size,\n",
    "            **kwargs\n",
    "        )\n",
    "    return models\n",
    "\n",
    "phmodel, basemodel = train_models(phmodel, basemodel, epochs=2000)"
   ]
  },
  {
   "cell_type": "markdown",
   "id": "150df002",
   "metadata": {},
   "source": [
    "#### Plot the results\n",
    "\n",
    "We compare the learned model against the true PDE by integrating from an initial condition not in the training data and on a longer time period thain in the training data."
   ]
  },
  {
   "cell_type": "code",
   "execution_count": null,
   "id": "f328dad4",
   "metadata": {
    "scrolled": false
   },
   "outputs": [],
   "source": [
    "def get_solutions(system, phmodel, basemodel, u0, t_axis):\n",
    "    u_exact, *_ = system.sample_trajectory(t_axis, x0=u0)\n",
    "    u_phnn, _ = phmodel.simulate_trajectory(integrator=False, t_sample=t_axis, x0=u0, xspatial=x)\n",
    "    if basemodel is not None:\n",
    "        u_baseline, _ = basemodel.simulate_trajectory(\n",
    "            integrator=False, t_sample=t_axis, x0=u0, xspatial=x\n",
    "        )\n",
    "    else:\n",
    "        u_baseline = None\n",
    "    return u_exact, u_phnn, u_baseline\n",
    "\n",
    "\n",
    "def plot_solutions(u_exact, u_model, t_axis, model='', y=None):\n",
    "    N = u_exact.shape[0]\n",
    "    lw = 2\n",
    "    colors = [(0,0.4,1),(1,0.7,0.3),(0.2,0.7,0.2),(0.8,0,0.2),(0.5,0.3,.9)]\n",
    "    if N > 1:\n",
    "        for i in range(5):\n",
    "            fig = plt.figure(figsize=(4,2)) \n",
    "            plt.plot(x, u_model[int(i*(N-1)/4),:], color = colors[0] if model=='PHNN' else colors[1],\n",
    "                     linestyle='-', linewidth=lw, label=f't = {i/4*t_axis[-1]}, model')\n",
    "            plt.plot(x, u_exact[int(i*(N-1)/4),:], color = 'k', linestyle='--', linewidth=1, label=f't = {i/4*t_axis[-1]}, true') \n",
    "            plt.xlabel('$x$', fontsize=12)\n",
    "            plt.ylabel('$u$' if y is None else y, fontsize=12)\n",
    "            plt.title(model+' model vs. ground truth', fontsize=14)\n",
    "            plt.legend()\n",
    "            plt.show()\n",
    "    else:\n",
    "        fig = plt.figure(figsize=(7,4))\n",
    "        plt.plot(x, u_exact[0,:], 'k--', linewidth=lw, label='True')\n",
    "        plt.plot(x, u_model[0,:], color = colors[4], linestyle='-', linewidth=lw, label='Model')\n",
    "        plt.xlabel('$x$', fontsize=12)\n",
    "        plt.ylabel('$u$' if y is None else y, fontsize=12)\n",
    "        plt.title(model+' model vs. ground truth', fontsize=14)\n",
    "        plt.legend()\n",
    "        plt.show()\n",
    "\n",
    "a1, a2 = 0.01, 0.02\n",
    "a3, a4 = 0.1, 0.06\n",
    "k1, k2, k3, k4 = 1, 2, 2, 5\n",
    "P = (x[-1]-x[0])*x.size/(x.size-1)\n",
    "u0 = a1*np.cos(2*k1*np.pi/P*x)\n",
    "u0 += a2*np.cos(2*k2*np.pi/P*x)\n",
    "u0 += a3*np.sin(2*k3*np.pi/P*x)\n",
    "u0 += a4*np.sin(2*k4*np.pi/P*x)\n",
    "t_test = np.linspace(0, .02, 201)\n",
    "\n",
    "u_exact, u_phnn, u_baseline = get_solutions(CahnHilliard_system, phmodel, basemodel, u0, t_test)\n",
    "plot_solutions(u_exact, u_phnn, t_test, 'PHNN')\n",
    "plot_solutions(u_exact, u_baseline, t_test, 'Baseline')"
   ]
  },
  {
   "cell_type": "code",
   "execution_count": null,
   "id": "6515d1a3",
   "metadata": {},
   "outputs": [],
   "source": [
    "if make_videos:\n",
    "    create_video([u_exact, u_phnn, u_baseline], ['Ground truth', 'PHNN', 'Baseline'], x_axis=x,\n",
    "                 file_name='pure_pm.gif', output_format='GIF')"
   ]
  },
  {
   "cell_type": "markdown",
   "id": "ccebf9fd",
   "metadata": {},
   "source": [
    "### Learning a Cahn–Hilliard system with an external force"
   ]
  },
  {
   "cell_type": "markdown",
   "id": "ed93cc20",
   "metadata": {},
   "source": [
    "We now test the PHNN model on a Cahn–Hilliard system with a state- and space-dependent external force acting on the system:\n",
    "$$\n",
    "u_t  - (\\nu u + \\alpha u^3 + \\mu u_{xx})_{xx} = f(x,t).\n",
    "$$"
   ]
  },
  {
   "cell_type": "code",
   "execution_count": null,
   "id": "112ab709",
   "metadata": {},
   "outputs": [],
   "source": [
    "def F(u, t):\n",
    "    return np.where((0.3 < x) & (x < 0.7), 30*u, 0)\n",
    "kernel_sizes = [1, 0, 3, 1]"
   ]
  },
  {
   "cell_type": "code",
   "execution_count": null,
   "id": "8dd66d23",
   "metadata": {},
   "outputs": [],
   "source": [
    "#disturbed_CahnHilliard_system = setup_CahnHilliard_system(external_forces=F)\n",
    "disturbed_CahnHilliard_system = phsys.CahnHilliardSystem(x=x, external_forces=F,\n",
    "                                                         init_sampler=phsys.initial_condition_ch(x))"
   ]
  },
  {
   "cell_type": "code",
   "execution_count": null,
   "id": "69423eee",
   "metadata": {},
   "outputs": [],
   "source": [
    "ext_forces_nn = phnn.PDEExternalForcesNN(spatial_points, hidden_dim=100,\n",
    "                                    timedependent=True, spacedependent=True, statedependent=True,\n",
    "                                    period=period)\n",
    "#phmodel = setup_pseudo_hamiltonian_nn(kernel_sizes, external_forces_est=ext_forces_nn)\n",
    "# We inform the model of the R operator:\n",
    "phmodel = setup_pseudo_hamiltonian_nn(kernel_sizes,\n",
    "                                      dissipation_matrix=disturbed_CahnHilliard_system.dissipation_matrix_flat,\n",
    "                                      external_forces_est=ext_forces_nn)\n",
    "basemodel = setup_baseline_nn(spacedependent=True, period=period)\n",
    "traindata, t_axis = get_training_data(disturbed_CahnHilliard_system)\n",
    "phmodel, basemodel = train_models(phmodel, basemodel, epochs=2000)"
   ]
  },
  {
   "cell_type": "code",
   "execution_count": null,
   "id": "ebd3898c",
   "metadata": {
    "scrolled": false
   },
   "outputs": [],
   "source": [
    "u_exact, u_phnn, u_baseline = get_solutions(disturbed_CahnHilliard_system, phmodel, basemodel, u0, t_test)\n",
    "plot_solutions(u_exact, u_phnn, t_test, 'PHNN')\n",
    "plot_solutions(u_exact, u_baseline, t_test, 'Baseline')"
   ]
  },
  {
   "cell_type": "code",
   "execution_count": null,
   "id": "46bf0d8a",
   "metadata": {},
   "outputs": [],
   "source": [
    "if make_videos:\n",
    "    create_video([u_exact, u_phnn, u_baseline], ['Ground truth', 'PHNN', 'Baseline'], x_axis=x,\n",
    "                 file_name='forced_pm.gif', output_format='GIF')"
   ]
  },
  {
   "cell_type": "code",
   "execution_count": null,
   "id": "81db7cbe",
   "metadata": {},
   "outputs": [],
   "source": [
    "F_exact = disturbed_CahnHilliard_system.external_forces(u_exact, t_test)#.reshape(1,-1)\n",
    "F_phnn = phmodel.external_forces(torch.tensor(u_phnn.reshape(-1,1,u_phnn.shape[-1]), dtype=ttype),\n",
    "                               torch.tensor(t_test.reshape(-1,1,1),dtype=ttype),\n",
    "                               torch.tensor(np.tile(x.reshape(-1, 1, 1), u_phnn.shape[0]).T, dtype=ttype)\n",
    "                              ).detach().numpy().reshape(u_phnn.shape)\n",
    "F_phnn_corrected = 1/phmodel.A().sum().detach().numpy()*F_phnn\n",
    "plot_solutions(F_exact, F_phnn_corrected, t_test, 'PHNN', 'External force')"
   ]
  },
  {
   "cell_type": "markdown",
   "id": "22c5d1ca",
   "metadata": {},
   "source": [
    "#### Removing the forces"
   ]
  },
  {
   "cell_type": "markdown",
   "id": "24eda719",
   "metadata": {},
   "source": [
    "Since we learned the external forces by a separate neural network in the PHNN model, we can remove these from the model and compare to the exact system without forces:"
   ]
  },
  {
   "cell_type": "code",
   "execution_count": null,
   "id": "ddd3982e",
   "metadata": {},
   "outputs": [],
   "source": [
    "phmodel_no_force = setup_pseudo_hamiltonian_nn(kernel_sizes=[kernel_sizes[0], 0, kernel_sizes[2], 0],\n",
    "                                               dissipation_matrix=phmodel.R(),\n",
    "                                               lhs_matrix=phmodel.A(),\n",
    "                                               dissintegral_true=phmodel.dissintegral,\n",
    "                                               grad_dissintegral_true=phmodel.dV,\n",
    "                                              )\n",
    "\n",
    "u_exact, u_phnn, _ = get_solutions(CahnHilliard_system, phmodel_no_force, None, u0, t_test)\n",
    "plot_solutions(u_exact, u_phnn, t_test, 'PHNN')"
   ]
  },
  {
   "cell_type": "code",
   "execution_count": null,
   "id": "5ae8aef6",
   "metadata": {},
   "outputs": [],
   "source": [
    "if make_videos:\n",
    "    create_video([u_exact, u_phnn], ['Ground truth', 'PHNN'], x_axis=x,\n",
    "                 file_name='pm.gif', output_format='GIF')"
   ]
  },
  {
   "cell_type": "code",
   "execution_count": null,
   "id": "3ccf9145",
   "metadata": {},
   "outputs": [],
   "source": []
  }
 ],
 "metadata": {
  "kernelspec": {
   "display_name": "Python (phnn_pde)",
   "language": "python",
   "name": "phnn_pde"
  },
  "language_info": {
   "codemirror_mode": {
    "name": "ipython",
    "version": 3
   },
   "file_extension": ".py",
   "mimetype": "text/x-python",
   "name": "python",
   "nbconvert_exporter": "python",
   "pygments_lexer": "ipython3",
   "version": "3.10.9"
  },
  "vscode": {
   "interpreter": {
    "hash": "9750f35fb4e247739abdd4f1bd3b23f35c1677f637abade63436e65eb57ee7de"
   }
  }
 },
 "nbformat": 4,
 "nbformat_minor": 5
}

{
 "cells": [
  {
   "cell_type": "markdown",
   "id": "decent-terror",
   "metadata": {},
   "source": [
    "# Pseudo-Hamiltonian neural networks"
   ]
  },
  {
   "cell_type": "markdown",
   "id": "e22c6980",
   "metadata": {},
   "source": [
    "This notebook provides examples of how you can use the package `phlearn` to generate data and train pseudo-Hamiltonian neural networks to model pseudo-Hamiltonian systems. The examples included here are the damped and forced mass-spring system and the system of tanks and pipes used in the paper [\"Pseudo-Hamiltonian Neural Networks with State-Dependent\n",
    "External Forces\"](https://arxiv.org/abs/2206.02660)."
   ]
  },
  {
   "cell_type": "code",
   "execution_count": 1,
   "id": "conceptual-senator",
   "metadata": {},
   "outputs": [],
   "source": [
    "import numpy as np\n",
    "import torch\n",
    "import networkx as nx\n",
    "\n",
    "from phlearn.phsystems import MassSpringDamperSystem, TankSystem, init_tanksystem\n",
    "from phlearn.phsystems import init_tanksystem_leaky, init_msdsystem, initial_condition_radial\n",
    "from phlearn.phnns import PseudoHamiltonianNN, DynamicSystemNN, load_dynamic_system_model\n",
    "from phlearn.phnns import R_estimator, BaselineNN, BaselineSplitNN, HamiltonianNN, ExternalForcesNN\n",
    "from phlearn.phnns import npoints_to_ntrajectories_tsample, train, generate_dataset\n",
    "\n",
    "import matplotlib.pyplot as plt\n",
    "colors = [(0,0.4,1),(1,0.7,0.3),(0.2,0.7,0.2),(0.8,0,0.2),(0.5,0.3,.9)]\n",
    "\n",
    "ttype = torch.float32\n",
    "torch.set_default_dtype(ttype)"
   ]
  },
  {
   "cell_type": "markdown",
   "id": "d38e33c6",
   "metadata": {},
   "source": [
    "### Initializing the data, neural network models and training parameters"
   ]
  },
  {
   "cell_type": "code",
   "execution_count": 7,
   "id": "5d97328e",
   "metadata": {},
   "outputs": [],
   "source": [
    "system = 'msd' # 'tank', 'msd' (Choose to train a tank or a forced and damped mass-spring system)"
   ]
  },
  {
   "cell_type": "code",
   "execution_count": 8,
   "id": "painful-desperate",
   "metadata": {},
   "outputs": [],
   "source": [
    "# Model params\n",
    "baseline = 0 # 0: PHNN; 1: One-network baseline model; 2: Two-network baseline model\n",
    "true_derivatives = False\n",
    "if true_derivatives: # If true_derivatives is True, use the true derivative values for training\n",
    "    integrator = False\n",
    "else: # If true_derivatives is False, use an integration scheme\n",
    "    integrator = 'midpoint' # 'euler', 'midpoint', 'rk4', or 'srk4'\n",
    "F_timedependent = True if system=='msd' else False # Let the neural network estimating F take time as input?\n",
    "F_statedependent = True if system=='tank' else False # Let the neural network estimating F take state as input?\n",
    "\n",
    "\n",
    "# Hyper params\n",
    "hidden_dim = 100\n",
    "learning_rate = 1e-3\n",
    "batch_size = 32\n",
    "epochs = 30\n",
    "l1_param_forces = 0. # Parameter for L1-regularization on the external force\n",
    "l1_param_dissipation = 0. # Parameter for L1-regularization on the damping matrix\n",
    "early_stopping_patience = None\n",
    "early_stopping_delta = None\n",
    "shuffle = True\n",
    "ntrainingpoints = 30000\n",
    "ntrajectories_val = 0\n",
    "\n",
    "# Simulation params\n",
    "seed = 1\n",
    "verbose = True\n",
    "noise_std = 0. # Standard deviation or Gaussian white noise on the data\n",
    "sampling_time = 1/100\n",
    "t_max = 1. if system=='tank' else 10.\n",
    "\n",
    "ntrajectories_train, t_sample = npoints_to_ntrajectories_tsample(ntrainingpoints, t_max, sampling_time)"
   ]
  },
  {
   "cell_type": "markdown",
   "id": "4094e50b",
   "metadata": {},
   "source": [
    "### Setting up the system"
   ]
  },
  {
   "cell_type": "code",
   "execution_count": 9,
   "id": "f3557f95",
   "metadata": {},
   "outputs": [],
   "source": [
    "if system == 'tank':\n",
    "    G_s = nx.DiGraph()\n",
    "    G_s.add_edge(1, 2)\n",
    "    G_s.add_edge(2, 3)\n",
    "    G_s.add_edge(3, 4)\n",
    "    G_s.add_edge(1, 3)\n",
    "    G_s.add_edge(1, 4)\n",
    "\n",
    "    npipes = G_s.number_of_edges()\n",
    "    ntanks = G_s.number_of_nodes()\n",
    "    nstates = npipes + ntanks\n",
    "    R = 1.e-2*np.diag(np.array([3., 3., 9., 3., 3.]))\n",
    "    J = 2.e-2*np.ones(npipes)\n",
    "    A = np.ones(ntanks)\n",
    "\n",
    "    nleaks = 1\n",
    "    if nleaks == 0:\n",
    "        def F(x, t=None):\n",
    "            return np.zeros_like(x)\n",
    "    else:\n",
    "        if nleaks == 1:\n",
    "            ext_filter = np.zeros(nstates)\n",
    "            ext_filter[-1] = 3\n",
    "        else:\n",
    "            ext_filter = np.zeros(nstates)\n",
    "            ext_filter[-1] = 3\n",
    "            ext_filter[-4] = 1\n",
    "        def F(x, t=None):\n",
    "            return -1.e1*np.minimum(0.3, np.maximum(x, -0.3))*ext_filter\n",
    "\n",
    "    pH_system = TankSystem(system_graph=G_s, dissipation_pipes=R, J=J, A=A, external_forces=F, controller=None)\n",
    "    # This standard setup of the tank system can be done with (for nleaks=0)\n",
    "    # pH_system = init_tanksystem()\n",
    "    # or (for nleaks=1)\n",
    "    # pH_system = init_tanksystem_leaky()\n",
    "    \n",
    "    damped_states = np.arange(pH_system.nstates) < pH_system.npipes\n",
    "\n",
    "elif system == 'msd':\n",
    "    f0 = 1\n",
    "    omega = 3\n",
    "    def F(x, t):\n",
    "        return (f0*np.sin(omega*t)).reshape(x[..., 1:].shape)*np.array([0, 1])\n",
    "    pH_system = MassSpringDamperSystem(mass=1.0, spring_constant=1.0, damping=0.3,\n",
    "                                       external_forces=F, init_sampler=initial_condition_radial(1, 4.5))\n",
    "    # This standard setup of the msd system can be done with\n",
    "    # pH_system = init_msdsystem()\n",
    "    damped_states = [False, True]\n",
    "\n",
    "pH_system.seed(seed)\n",
    "nstates = pH_system.nstates"
   ]
  },
  {
   "cell_type": "markdown",
   "id": "micro-newcastle",
   "metadata": {},
   "source": [
    "### Setting up the model\n",
    "\n",
    "We can choose to either set up a PHNN model or use a baseline model. There are two alternatives for the baseline model: the first models the right hand side of the dynamic system by one neural network taking both $x$ and $t$ as input; the second models the right hand side by two separate networks, one taking $x$ and one taking $t$."
   ]
  },
  {
   "cell_type": "code",
   "execution_count": 10,
   "id": "allied-feelings",
   "metadata": {},
   "outputs": [],
   "source": [
    "if baseline == 1:\n",
    "    baseline_nn = BaselineNN(nstates, hidden_dim, timedependent=F_timedependent, statedependent=True)\n",
    "    model = DynamicSystemNN(nstates, baseline_nn)\n",
    "elif baseline == 2:\n",
    "    external_forces_filter_t = np.zeros(nstates)\n",
    "    external_forces_filter_t[-1] = 1 # Assuming that there is an external force only on the last state variable\n",
    "    baseline_nn = BaselineSplitNN(\n",
    "        nstates, hidden_dim, noutputs_x=nstates,\n",
    "        noutputs_t=1, external_forces_filter_x=None,\n",
    "        external_forces_filter_t=external_forces_filter_t,\n",
    "        ttype=ttype)\n",
    "    model = DynamicSystemNN(nstates, baseline_nn)\n",
    "\n",
    "else:\n",
    "    hamiltonian_nn = HamiltonianNN(nstates, hidden_dim)\n",
    "    external_forces_filter = np.zeros(nstates)\n",
    "    external_forces_filter[-1] = 1 # Assuming that there is an external force only on the last state variable\n",
    "    ext_forces_nn = ExternalForcesNN(nstates, 1, hidden_dim=hidden_dim,\n",
    "                                 timedependent=F_timedependent,\n",
    "                                 statedependent=F_statedependent,\n",
    "                                 external_forces_filter=external_forces_filter)\n",
    "\n",
    "    r_est = R_estimator(damped_states)\n",
    "\n",
    "    model = PseudoHamiltonianNN(nstates,\n",
    "                              pH_system.structure_matrix,\n",
    "                              hamiltonian_est=hamiltonian_nn,\n",
    "                              dissipation_est=r_est,\n",
    "                              external_forces_est=ext_forces_nn)\n",
    "optimizer = torch.optim.Adam(model.parameters(), lr=learning_rate, weight_decay=1e-4)"
   ]
  },
  {
   "cell_type": "markdown",
   "id": "creative-adventure",
   "metadata": {},
   "source": [
    "### Generating training data"
   ]
  },
  {
   "cell_type": "code",
   "execution_count": 11,
   "id": "exterior-volleyball",
   "metadata": {},
   "outputs": [
    {
     "ename": "ValueError",
     "evalue": "matmul: Input operand 1 has a mismatch in its core dimension 0, with gufunc signature (n?,k),(k,m?)->(n?,m?) (size 2 is different from 1)",
     "output_type": "error",
     "traceback": [
      "\u001b[0;31m---------------------------------------------------------------------------\u001b[0m",
      "\u001b[0;31mValueError\u001b[0m                                Traceback (most recent call last)",
      "Cell \u001b[0;32mIn[11], line 1\u001b[0m\n\u001b[0;32m----> 1\u001b[0m traindata \u001b[38;5;241m=\u001b[39m \u001b[43mgenerate_dataset\u001b[49m\u001b[43m(\u001b[49m\n\u001b[1;32m      2\u001b[0m \u001b[43m    \u001b[49m\u001b[43mpH_system\u001b[49m\u001b[43m,\u001b[49m\u001b[43m \u001b[49m\u001b[43mntrajectories_train\u001b[49m\u001b[43m,\u001b[49m\u001b[43m \u001b[49m\u001b[43mt_sample\u001b[49m\u001b[43m,\u001b[49m\u001b[43m \u001b[49m\u001b[43mtrue_derivatives\u001b[49m\u001b[43m,\u001b[49m\n\u001b[1;32m      3\u001b[0m \u001b[43m    \u001b[49m\u001b[43mnsamples\u001b[49m\u001b[38;5;241;43m=\u001b[39;49m\u001b[43mntrainingpoints\u001b[49m\u001b[43m,\u001b[49m\u001b[43m \u001b[49m\u001b[43mnoise_std\u001b[49m\u001b[38;5;241;43m=\u001b[39;49m\u001b[43mnoise_std\u001b[49m\u001b[43m)\u001b[49m\n\u001b[1;32m      4\u001b[0m valdata \u001b[38;5;241m=\u001b[39m generate_dataset(\n\u001b[1;32m      5\u001b[0m     pH_system, ntrajectories_val, t_sample, true_derivatives, noise_std\u001b[38;5;241m=\u001b[39mnoise_std)\n",
      "File \u001b[0;32m~/Library/CloudStorage/OneDrive-SINTEF/PHNN/PHNN-PDE/phnn-pde-branch/phlearn/phlearn/phnns/train_utils.py:102\u001b[0m, in \u001b[0;36mgenerate_dataset\u001b[0;34m(pH_system, ntrajectories, t_sample, true_derivatives, nsamples, seed, noise_std, references, ttype)\u001b[0m\n\u001b[1;32m     99\u001b[0m     references \u001b[38;5;241m=\u001b[39m [\u001b[38;5;28;01mNone\u001b[39;00m] \u001b[38;5;241m*\u001b[39m ntrajectories\n\u001b[1;32m    101\u001b[0m \u001b[38;5;28;01mfor\u001b[39;00m i \u001b[38;5;129;01min\u001b[39;00m \u001b[38;5;28mrange\u001b[39m(ntrajectories):\n\u001b[0;32m--> 102\u001b[0m     x[i], dxdt[i], t[i], u[i] \u001b[38;5;241m=\u001b[39m \u001b[43mpH_system\u001b[49m\u001b[38;5;241;43m.\u001b[39;49m\u001b[43msample_trajectory\u001b[49m\u001b[43m(\u001b[49m\n\u001b[1;32m    103\u001b[0m \u001b[43m        \u001b[49m\u001b[43mt_sample\u001b[49m\u001b[43m,\u001b[49m\u001b[43m \u001b[49m\u001b[43mnoise_std\u001b[49m\u001b[38;5;241;43m=\u001b[39;49m\u001b[43mnoise_std\u001b[49m\u001b[43m,\u001b[49m\u001b[43m \u001b[49m\u001b[43mreference\u001b[49m\u001b[38;5;241;43m=\u001b[39;49m\u001b[43mreferences\u001b[49m\u001b[43m[\u001b[49m\u001b[43mi\u001b[49m\u001b[43m]\u001b[49m\n\u001b[1;32m    104\u001b[0m \u001b[43m    \u001b[49m\u001b[43m)\u001b[49m\n\u001b[1;32m    106\u001b[0m dt \u001b[38;5;241m=\u001b[39m torch\u001b[38;5;241m.\u001b[39mtensor([t[\u001b[38;5;241m0\u001b[39m, \u001b[38;5;241m1\u001b[39m] \u001b[38;5;241m-\u001b[39m t[\u001b[38;5;241m0\u001b[39m, \u001b[38;5;241m0\u001b[39m]], dtype\u001b[38;5;241m=\u001b[39mttype)\n\u001b[1;32m    108\u001b[0m x_start \u001b[38;5;241m=\u001b[39m torch\u001b[38;5;241m.\u001b[39mtensor(x[:, :\u001b[38;5;241m-\u001b[39m\u001b[38;5;241m1\u001b[39m], dtype\u001b[38;5;241m=\u001b[39mttype)\u001b[38;5;241m.\u001b[39mreshape(\u001b[38;5;241m-\u001b[39m\u001b[38;5;241m1\u001b[39m, nstates)\n",
      "File \u001b[0;32m~/Library/CloudStorage/OneDrive-SINTEF/PHNN/PHNN-PDE/phnn-pde-branch/phlearn/phlearn/phsystems/pseudo_Hamiltonian_system.py:248\u001b[0m, in \u001b[0;36mPseudoHamiltonianSystem.sample_trajectory\u001b[0;34m(self, t, x0, noise_std, reference)\u001b[0m\n\u001b[1;32m    244\u001b[0m \u001b[38;5;28;01mif\u001b[39;00m \u001b[38;5;28mself\u001b[39m\u001b[38;5;241m.\u001b[39mcontroller \u001b[38;5;129;01mis\u001b[39;00m \u001b[38;5;28;01mNone\u001b[39;00m:\n\u001b[1;32m    245\u001b[0m     x_dot \u001b[38;5;241m=\u001b[39m \u001b[38;5;28;01mlambda\u001b[39;00m t, x: \u001b[38;5;28mself\u001b[39m\u001b[38;5;241m.\u001b[39mx_dot(\n\u001b[1;32m    246\u001b[0m         x\u001b[38;5;241m.\u001b[39mreshape(\u001b[38;5;241m1\u001b[39m, x\u001b[38;5;241m.\u001b[39mshape[\u001b[38;5;241m-\u001b[39m\u001b[38;5;241m1\u001b[39m]), np\u001b[38;5;241m.\u001b[39marray(t)\u001b[38;5;241m.\u001b[39mreshape((\u001b[38;5;241m1\u001b[39m, \u001b[38;5;241m1\u001b[39m))\n\u001b[1;32m    247\u001b[0m     )\n\u001b[0;32m--> 248\u001b[0m     out_ivp \u001b[38;5;241m=\u001b[39m \u001b[43msolve_ivp\u001b[49m\u001b[43m(\u001b[49m\n\u001b[1;32m    249\u001b[0m \u001b[43m        \u001b[49m\u001b[43mfun\u001b[49m\u001b[38;5;241;43m=\u001b[39;49m\u001b[43mx_dot\u001b[49m\u001b[43m,\u001b[49m\u001b[43m \u001b[49m\u001b[43mt_span\u001b[49m\u001b[38;5;241;43m=\u001b[39;49m\u001b[43m(\u001b[49m\u001b[43mt\u001b[49m\u001b[43m[\u001b[49m\u001b[38;5;241;43m0\u001b[39;49m\u001b[43m]\u001b[49m\u001b[43m,\u001b[49m\u001b[43m \u001b[49m\u001b[43mt\u001b[49m\u001b[43m[\u001b[49m\u001b[38;5;241;43m-\u001b[39;49m\u001b[38;5;241;43m1\u001b[39;49m\u001b[43m]\u001b[49m\u001b[43m)\u001b[49m\u001b[43m,\u001b[49m\u001b[43m \u001b[49m\u001b[43my0\u001b[49m\u001b[38;5;241;43m=\u001b[39;49m\u001b[43mx0\u001b[49m\u001b[43m,\u001b[49m\u001b[43m \u001b[49m\u001b[43mt_eval\u001b[49m\u001b[38;5;241;43m=\u001b[39;49m\u001b[43mt\u001b[49m\u001b[43m,\u001b[49m\u001b[43m \u001b[49m\u001b[43mrtol\u001b[49m\u001b[38;5;241;43m=\u001b[39;49m\u001b[38;5;241;43m1e-10\u001b[39;49m\n\u001b[1;32m    250\u001b[0m \u001b[43m    \u001b[49m\u001b[43m)\u001b[49m\n\u001b[1;32m    251\u001b[0m     x, t \u001b[38;5;241m=\u001b[39m out_ivp[\u001b[38;5;124m\"\u001b[39m\u001b[38;5;124my\u001b[39m\u001b[38;5;124m\"\u001b[39m]\u001b[38;5;241m.\u001b[39mT, out_ivp[\u001b[38;5;124m\"\u001b[39m\u001b[38;5;124mt\u001b[39m\u001b[38;5;124m\"\u001b[39m]\u001b[38;5;241m.\u001b[39mT\n\u001b[1;32m    252\u001b[0m     dxdt \u001b[38;5;241m=\u001b[39m \u001b[38;5;28mself\u001b[39m\u001b[38;5;241m.\u001b[39mx_dot(x, t)\n",
      "File \u001b[0;32m/usr/local/Caskroom/miniforge/base/envs/phnn_pde/lib/python3.10/site-packages/scipy/integrate/_ivp/ivp.py:557\u001b[0m, in \u001b[0;36msolve_ivp\u001b[0;34m(fun, t_span, y0, method, t_eval, dense_output, events, vectorized, args, **options)\u001b[0m\n\u001b[1;32m    554\u001b[0m \u001b[38;5;28;01mif\u001b[39;00m method \u001b[38;5;129;01min\u001b[39;00m METHODS:\n\u001b[1;32m    555\u001b[0m     method \u001b[38;5;241m=\u001b[39m METHODS[method]\n\u001b[0;32m--> 557\u001b[0m solver \u001b[38;5;241m=\u001b[39m \u001b[43mmethod\u001b[49m\u001b[43m(\u001b[49m\u001b[43mfun\u001b[49m\u001b[43m,\u001b[49m\u001b[43m \u001b[49m\u001b[43mt0\u001b[49m\u001b[43m,\u001b[49m\u001b[43m \u001b[49m\u001b[43my0\u001b[49m\u001b[43m,\u001b[49m\u001b[43m \u001b[49m\u001b[43mtf\u001b[49m\u001b[43m,\u001b[49m\u001b[43m \u001b[49m\u001b[43mvectorized\u001b[49m\u001b[38;5;241;43m=\u001b[39;49m\u001b[43mvectorized\u001b[49m\u001b[43m,\u001b[49m\u001b[43m \u001b[49m\u001b[38;5;241;43m*\u001b[39;49m\u001b[38;5;241;43m*\u001b[39;49m\u001b[43moptions\u001b[49m\u001b[43m)\u001b[49m\n\u001b[1;32m    559\u001b[0m \u001b[38;5;28;01mif\u001b[39;00m t_eval \u001b[38;5;129;01mis\u001b[39;00m \u001b[38;5;28;01mNone\u001b[39;00m:\n\u001b[1;32m    560\u001b[0m     ts \u001b[38;5;241m=\u001b[39m [t0]\n",
      "File \u001b[0;32m/usr/local/Caskroom/miniforge/base/envs/phnn_pde/lib/python3.10/site-packages/scipy/integrate/_ivp/rk.py:94\u001b[0m, in \u001b[0;36mRungeKutta.__init__\u001b[0;34m(self, fun, t0, y0, t_bound, max_step, rtol, atol, vectorized, first_step, **extraneous)\u001b[0m\n\u001b[1;32m     92\u001b[0m \u001b[38;5;28mself\u001b[39m\u001b[38;5;241m.\u001b[39mmax_step \u001b[38;5;241m=\u001b[39m validate_max_step(max_step)\n\u001b[1;32m     93\u001b[0m \u001b[38;5;28mself\u001b[39m\u001b[38;5;241m.\u001b[39mrtol, \u001b[38;5;28mself\u001b[39m\u001b[38;5;241m.\u001b[39matol \u001b[38;5;241m=\u001b[39m validate_tol(rtol, atol, \u001b[38;5;28mself\u001b[39m\u001b[38;5;241m.\u001b[39mn)\n\u001b[0;32m---> 94\u001b[0m \u001b[38;5;28mself\u001b[39m\u001b[38;5;241m.\u001b[39mf \u001b[38;5;241m=\u001b[39m \u001b[38;5;28;43mself\u001b[39;49m\u001b[38;5;241;43m.\u001b[39;49m\u001b[43mfun\u001b[49m\u001b[43m(\u001b[49m\u001b[38;5;28;43mself\u001b[39;49m\u001b[38;5;241;43m.\u001b[39;49m\u001b[43mt\u001b[49m\u001b[43m,\u001b[49m\u001b[43m \u001b[49m\u001b[38;5;28;43mself\u001b[39;49m\u001b[38;5;241;43m.\u001b[39;49m\u001b[43my\u001b[49m\u001b[43m)\u001b[49m\n\u001b[1;32m     95\u001b[0m \u001b[38;5;28;01mif\u001b[39;00m first_step \u001b[38;5;129;01mis\u001b[39;00m \u001b[38;5;28;01mNone\u001b[39;00m:\n\u001b[1;32m     96\u001b[0m     \u001b[38;5;28mself\u001b[39m\u001b[38;5;241m.\u001b[39mh_abs \u001b[38;5;241m=\u001b[39m select_initial_step(\n\u001b[1;32m     97\u001b[0m         \u001b[38;5;28mself\u001b[39m\u001b[38;5;241m.\u001b[39mfun, \u001b[38;5;28mself\u001b[39m\u001b[38;5;241m.\u001b[39mt, \u001b[38;5;28mself\u001b[39m\u001b[38;5;241m.\u001b[39my, \u001b[38;5;28mself\u001b[39m\u001b[38;5;241m.\u001b[39mf, \u001b[38;5;28mself\u001b[39m\u001b[38;5;241m.\u001b[39mdirection,\n\u001b[1;32m     98\u001b[0m         \u001b[38;5;28mself\u001b[39m\u001b[38;5;241m.\u001b[39merror_estimator_order, \u001b[38;5;28mself\u001b[39m\u001b[38;5;241m.\u001b[39mrtol, \u001b[38;5;28mself\u001b[39m\u001b[38;5;241m.\u001b[39matol)\n",
      "File \u001b[0;32m/usr/local/Caskroom/miniforge/base/envs/phnn_pde/lib/python3.10/site-packages/scipy/integrate/_ivp/base.py:138\u001b[0m, in \u001b[0;36mOdeSolver.__init__.<locals>.fun\u001b[0;34m(t, y)\u001b[0m\n\u001b[1;32m    136\u001b[0m \u001b[38;5;28;01mdef\u001b[39;00m \u001b[38;5;21mfun\u001b[39m(t, y):\n\u001b[1;32m    137\u001b[0m     \u001b[38;5;28mself\u001b[39m\u001b[38;5;241m.\u001b[39mnfev \u001b[38;5;241m+\u001b[39m\u001b[38;5;241m=\u001b[39m \u001b[38;5;241m1\u001b[39m\n\u001b[0;32m--> 138\u001b[0m     \u001b[38;5;28;01mreturn\u001b[39;00m \u001b[38;5;28;43mself\u001b[39;49m\u001b[38;5;241;43m.\u001b[39;49m\u001b[43mfun_single\u001b[49m\u001b[43m(\u001b[49m\u001b[43mt\u001b[49m\u001b[43m,\u001b[49m\u001b[43m \u001b[49m\u001b[43my\u001b[49m\u001b[43m)\u001b[49m\n",
      "File \u001b[0;32m/usr/local/Caskroom/miniforge/base/envs/phnn_pde/lib/python3.10/site-packages/scipy/integrate/_ivp/base.py:20\u001b[0m, in \u001b[0;36mcheck_arguments.<locals>.fun_wrapped\u001b[0;34m(t, y)\u001b[0m\n\u001b[1;32m     19\u001b[0m \u001b[38;5;28;01mdef\u001b[39;00m \u001b[38;5;21mfun_wrapped\u001b[39m(t, y):\n\u001b[0;32m---> 20\u001b[0m     \u001b[38;5;28;01mreturn\u001b[39;00m np\u001b[38;5;241m.\u001b[39masarray(\u001b[43mfun\u001b[49m\u001b[43m(\u001b[49m\u001b[43mt\u001b[49m\u001b[43m,\u001b[49m\u001b[43m \u001b[49m\u001b[43my\u001b[49m\u001b[43m)\u001b[49m, dtype\u001b[38;5;241m=\u001b[39mdtype)\n",
      "File \u001b[0;32m~/Library/CloudStorage/OneDrive-SINTEF/PHNN/PHNN-PDE/phnn-pde-branch/phlearn/phlearn/phsystems/pseudo_Hamiltonian_system.py:245\u001b[0m, in \u001b[0;36mPseudoHamiltonianSystem.sample_trajectory.<locals>.<lambda>\u001b[0;34m(t, x)\u001b[0m\n\u001b[1;32m    242\u001b[0m     x0 \u001b[38;5;241m=\u001b[39m \u001b[38;5;28mself\u001b[39m\u001b[38;5;241m.\u001b[39m_initial_condition_sampler(\u001b[38;5;28mself\u001b[39m\u001b[38;5;241m.\u001b[39mrng)\n\u001b[1;32m    244\u001b[0m \u001b[38;5;28;01mif\u001b[39;00m \u001b[38;5;28mself\u001b[39m\u001b[38;5;241m.\u001b[39mcontroller \u001b[38;5;129;01mis\u001b[39;00m \u001b[38;5;28;01mNone\u001b[39;00m:\n\u001b[0;32m--> 245\u001b[0m     x_dot \u001b[38;5;241m=\u001b[39m \u001b[38;5;28;01mlambda\u001b[39;00m t, x: \u001b[38;5;28;43mself\u001b[39;49m\u001b[38;5;241;43m.\u001b[39;49m\u001b[43mx_dot\u001b[49m\u001b[43m(\u001b[49m\n\u001b[1;32m    246\u001b[0m \u001b[43m        \u001b[49m\u001b[43mx\u001b[49m\u001b[38;5;241;43m.\u001b[39;49m\u001b[43mreshape\u001b[49m\u001b[43m(\u001b[49m\u001b[38;5;241;43m1\u001b[39;49m\u001b[43m,\u001b[49m\u001b[43m \u001b[49m\u001b[43mx\u001b[49m\u001b[38;5;241;43m.\u001b[39;49m\u001b[43mshape\u001b[49m\u001b[43m[\u001b[49m\u001b[38;5;241;43m-\u001b[39;49m\u001b[38;5;241;43m1\u001b[39;49m\u001b[43m]\u001b[49m\u001b[43m)\u001b[49m\u001b[43m,\u001b[49m\u001b[43m \u001b[49m\u001b[43mnp\u001b[49m\u001b[38;5;241;43m.\u001b[39;49m\u001b[43marray\u001b[49m\u001b[43m(\u001b[49m\u001b[43mt\u001b[49m\u001b[43m)\u001b[49m\u001b[38;5;241;43m.\u001b[39;49m\u001b[43mreshape\u001b[49m\u001b[43m(\u001b[49m\u001b[43m(\u001b[49m\u001b[38;5;241;43m1\u001b[39;49m\u001b[43m,\u001b[49m\u001b[43m \u001b[49m\u001b[38;5;241;43m1\u001b[39;49m\u001b[43m)\u001b[49m\u001b[43m)\u001b[49m\n\u001b[1;32m    247\u001b[0m \u001b[43m    \u001b[49m\u001b[43m)\u001b[49m\n\u001b[1;32m    248\u001b[0m     out_ivp \u001b[38;5;241m=\u001b[39m solve_ivp(\n\u001b[1;32m    249\u001b[0m         fun\u001b[38;5;241m=\u001b[39mx_dot, t_span\u001b[38;5;241m=\u001b[39m(t[\u001b[38;5;241m0\u001b[39m], t[\u001b[38;5;241m-\u001b[39m\u001b[38;5;241m1\u001b[39m]), y0\u001b[38;5;241m=\u001b[39mx0, t_eval\u001b[38;5;241m=\u001b[39mt, rtol\u001b[38;5;241m=\u001b[39m\u001b[38;5;241m1e-10\u001b[39m\n\u001b[1;32m    250\u001b[0m     )\n\u001b[1;32m    251\u001b[0m     x, t \u001b[38;5;241m=\u001b[39m out_ivp[\u001b[38;5;124m\"\u001b[39m\u001b[38;5;124my\u001b[39m\u001b[38;5;124m\"\u001b[39m]\u001b[38;5;241m.\u001b[39mT, out_ivp[\u001b[38;5;124m\"\u001b[39m\u001b[38;5;124mt\u001b[39m\u001b[38;5;124m\"\u001b[39m]\u001b[38;5;241m.\u001b[39mT\n",
      "File \u001b[0;32m~/Library/CloudStorage/OneDrive-SINTEF/PHNN/PHNN-PDE/phnn-pde-branch/phlearn/phlearn/phsystems/pseudo_Hamiltonian_system.py:192\u001b[0m, in \u001b[0;36mPseudoHamiltonianSystem.x_dot\u001b[0;34m(self, x, t, u)\u001b[0m\n\u001b[1;32m    190\u001b[0m S \u001b[38;5;241m=\u001b[39m \u001b[38;5;28mself\u001b[39m\u001b[38;5;241m.\u001b[39mS(x)\n\u001b[1;32m    191\u001b[0m R \u001b[38;5;241m=\u001b[39m \u001b[38;5;28mself\u001b[39m\u001b[38;5;241m.\u001b[39mR(x)\n\u001b[0;32m--> 192\u001b[0m dH \u001b[38;5;241m=\u001b[39m \u001b[38;5;28;43mself\u001b[39;49m\u001b[38;5;241;43m.\u001b[39;49m\u001b[43mdH\u001b[49m\u001b[43m(\u001b[49m\u001b[43mx\u001b[49m\u001b[38;5;241;43m.\u001b[39;49m\u001b[43mT\u001b[49m\u001b[43m)\u001b[49m\u001b[38;5;241m.\u001b[39mT\n\u001b[1;32m    194\u001b[0m \u001b[38;5;28;01mif\u001b[39;00m (\u001b[38;5;28mlen\u001b[39m(S\u001b[38;5;241m.\u001b[39mshape) \u001b[38;5;241m==\u001b[39m \u001b[38;5;241m3\u001b[39m) \u001b[38;5;129;01mor\u001b[39;00m (\u001b[38;5;28mlen\u001b[39m(R\u001b[38;5;241m.\u001b[39mshape) \u001b[38;5;241m==\u001b[39m \u001b[38;5;241m3\u001b[39m):\n\u001b[1;32m    195\u001b[0m     dynamics \u001b[38;5;241m=\u001b[39m np\u001b[38;5;241m.\u001b[39mmatmul(S \u001b[38;5;241m-\u001b[39m R, np\u001b[38;5;241m.\u001b[39matleast_3d(dH))\u001b[38;5;241m.\u001b[39mreshape(\n\u001b[1;32m    196\u001b[0m         x\u001b[38;5;241m.\u001b[39mshape\n\u001b[1;32m    197\u001b[0m     ) \u001b[38;5;241m+\u001b[39m \u001b[38;5;28mself\u001b[39m\u001b[38;5;241m.\u001b[39mexternal_forces(x, t)\n",
      "File \u001b[0;32m~/Library/CloudStorage/OneDrive-SINTEF/PHNN/PHNN-PDE/phnn-pde-branch/phlearn/phlearn/phsystems/msd_system.py:42\u001b[0m, in \u001b[0;36mMassSpringDamperSystem.__init__.<locals>.ham_grad\u001b[0;34m(x)\u001b[0m\n\u001b[1;32m     41\u001b[0m \u001b[38;5;28;01mdef\u001b[39;00m \u001b[38;5;21mham_grad\u001b[39m(x):\n\u001b[0;32m---> 42\u001b[0m     \u001b[38;5;28;01mreturn\u001b[39;00m \u001b[43mnp\u001b[49m\u001b[38;5;241;43m.\u001b[39;49m\u001b[43mmatmul\u001b[49m\u001b[43m(\u001b[49m\u001b[43mx\u001b[49m\u001b[43m,\u001b[49m\u001b[43m \u001b[49m\u001b[43mnp\u001b[49m\u001b[38;5;241;43m.\u001b[39;49m\u001b[43mdiag\u001b[49m\u001b[43m(\u001b[49m\u001b[43m[\u001b[49m\u001b[43mspring_constant\u001b[49m\u001b[43m,\u001b[49m\u001b[43m \u001b[49m\u001b[38;5;241;43m1\u001b[39;49m\u001b[38;5;241;43m/\u001b[39;49m\u001b[43mmass\u001b[49m\u001b[43m]\u001b[49m\u001b[43m)\u001b[49m\u001b[43m)\u001b[49m\n",
      "\u001b[0;31mValueError\u001b[0m: matmul: Input operand 1 has a mismatch in its core dimension 0, with gufunc signature (n?,k),(k,m?)->(n?,m?) (size 2 is different from 1)"
     ]
    }
   ],
   "source": [
    "traindata = generate_dataset(\n",
    "    pH_system, ntrajectories_train, t_sample, true_derivatives,\n",
    "    nsamples=ntrainingpoints, noise_std=noise_std)\n",
    "valdata = generate_dataset(\n",
    "    pH_system, ntrajectories_val, t_sample, true_derivatives, noise_std=noise_std)"
   ]
  },
  {
   "cell_type": "markdown",
   "id": "hybrid-departure",
   "metadata": {},
   "source": [
    "### Training the model"
   ]
  },
  {
   "cell_type": "code",
   "execution_count": null,
   "id": "vietnamese-abuse",
   "metadata": {
    "scrolled": false
   },
   "outputs": [],
   "source": [
    "model, vloss = train(model, integrator, traindata, optimizer,\n",
    "                     valdata=valdata, epochs=epochs,\n",
    "                     batch_size=batch_size, shuffle=shuffle,\n",
    "                     l1_param_forces=l1_param_forces,\n",
    "                     l1_param_dissipation=l1_param_dissipation,\n",
    "                     loss_fn=torch.nn.MSELoss(), verbose=verbose,\n",
    "                     early_stopping_patience=early_stopping_patience,\n",
    "                     early_stopping_delta=early_stopping_delta, return_best=True)"
   ]
  },
  {
   "cell_type": "markdown",
   "id": "hearing-questionnaire",
   "metadata": {},
   "source": [
    "### Integrating the learned system and comparing to exact trajectories"
   ]
  },
  {
   "cell_type": "code",
   "execution_count": null,
   "id": "3cbfe4ca",
   "metadata": {},
   "outputs": [],
   "source": [
    "t_max = 1 if system == 'tank' else 10\n",
    "dt = 0.01\n",
    "seed = 7"
   ]
  },
  {
   "cell_type": "code",
   "execution_count": null,
   "id": "established-blame",
   "metadata": {},
   "outputs": [],
   "source": [
    "pH_system.seed(seed)\n",
    "t_sample = np.arange(0, t_max, dt)\n",
    "nsamples = t_sample.shape[0]\n",
    "\n",
    "x_exact, dxdt, _, _ = pH_system.sample_trajectory(t_sample)\n",
    "x0 = x_exact[0, :]\n",
    "x_phnn, _ = model.simulate_trajectory(integrator=False, t_sample=t_sample, x0=x0)"
   ]
  },
  {
   "cell_type": "markdown",
   "id": "093d2d88",
   "metadata": {},
   "source": [
    "#### Calculating errors:"
   ]
  },
  {
   "cell_type": "code",
   "execution_count": null,
   "id": "5435ae23",
   "metadata": {},
   "outputs": [],
   "source": [
    "if isinstance(model, PseudoHamiltonianNN):\n",
    "    if (not model.external_forces_provided):\n",
    "        F_phnn = model.external_forces(torch.tensor(x_phnn, dtype=ttype),\n",
    "                                     torch.tensor(t_sample.reshape(nsamples, 1), dtype=ttype)).detach().numpy()\n",
    "        F_phnn_mean = F_phnn.mean(axis=0)\n",
    "        F_phnn -= F_phnn_mean\n",
    "        F_exact = pH_system.external_forces(x_exact, t_sample)\n",
    "        print('External force MSE:', ((F_phnn - F_exact)**2).mean())\n",
    "        print('External force MAE:', np.abs(F_phnn - F_exact).mean())\n",
    "    if (not model.dissipation_provided):\n",
    "        print('R MSE:', ((model.R(x_exact).detach().numpy() - pH_system.R(x_exact))**2).mean())\n",
    "        print('R MAE:', np.abs(model.R(x_exact).detach().numpy() - pH_system.R(x_exact)).mean())\n",
    "    if (not model.hamiltonian_provided):\n",
    "        if pH_system.H is not None:\n",
    "            hamiltonian_exact = pH_system.H(x_exact)\n",
    "            hamiltonian_phnn = model.hamiltonian(torch.tensor(x_phnn, dtype=ttype)).detach().numpy()\n",
    "            hamiltonian_exact = pH_system.H(x_exact)\n",
    "            hamiltonian_phnn = model.hamiltonian(torch.tensor(x_phnn, dtype=ttype)).detach().numpy()\n",
    "            print('H MSE:', ((hamiltonian_exact - hamiltonian_phnn)**2).mean())\n",
    "            print('H MAE:', np.abs(hamiltonian_exact - hamiltonian_phnn).mean())\n",
    "        dH_exact = pH_system.dH(x_exact)\n",
    "        dH_phnn = model.dH(torch.tensor(x_phnn, dtype=ttype)).detach().numpy()\n",
    "        if system == 'tank':\n",
    "            print('dH tanks MSE:', ((pH_system.tanklevels(dH_exact) - pH_system.tanklevels(dH_phnn))**2).mean())\n",
    "            print('dH tanks MAE:', np.abs(pH_system.tanklevels(dH_exact) - pH_system.tanklevels(dH_phnn)).mean())\n",
    "            print('dH pipes MSE:', ((pH_system.pipeflows(dH_exact) - pH_system.pipeflows(dH_phnn))**2).mean())\n",
    "            print('dH pipes MAE:', np.abs(pH_system.pipeflows(dH_exact) - pH_system.pipeflows(dH_phnn)).mean())\n",
    "        else:\n",
    "            print('dH x1 MSE:', ((dH_exact[:, 0] - dH_phnn[:, 0])**2).mean())\n",
    "            print('dH x1 MAE:', np.abs(dH_exact[:, 0] - dH_phnn[:, 0]).mean())\n",
    "            print('dH x2 MSE:', ((dH_exact[:, 1] - dH_phnn[:, 1])**2).mean())\n",
    "            print('dH x2 MAE:', np.abs(dH_exact[:, 1] - dH_phnn[:, 1]).mean())\n",
    "elif isinstance(model.rhs_model, BaselineSplitNN):\n",
    "    F_baseline = model.rhs_model.network_t(torch.tensor(x_phnn, dtype=ttype),\n",
    "                                 torch.tensor(t_sample.reshape(nsamples, 1), dtype=ttype)).detach().numpy()\n",
    "    F_baseline -= F_baseline.mean(axis=0)\n",
    "    F_exact = pH_system.external_forces(x_exact, t_sample)\n",
    "    print('External force MSE:', ((F_baseline - F_exact)**2).mean())\n",
    "    print('External force MAE:', np.abs(F_baseline - F_exact).mean())\n",
    "\n",
    "if system == 'tank':\n",
    "    print('Tanks MSE:', ((pH_system.tanklevels(x_exact) - pH_system.tanklevels(x_phnn))**2).mean())\n",
    "    print('Pipes MSE:', ((pH_system.pipeflows(x_exact) - pH_system.pipeflows(x_phnn))**2).mean())\n",
    "    print('Tanks MAE:', np.abs(pH_system.tanklevels(x_exact) - pH_system.tanklevels(x_phnn)).mean())\n",
    "    print('Pipes MAE:', np.abs(pH_system.pipeflows(x_exact) - pH_system.pipeflows(x_phnn)).mean())\n",
    "else:\n",
    "    print('x1 MSE:', ((x_exact[:, 0] - x_phnn[:, 0])**2).mean())\n",
    "    print('x1 MAE:', np.abs(x_exact[:, 0] - x_phnn[:, 0]).mean())\n",
    "    print('x2 MSE:', ((x_exact[:, 1] - x_phnn[:, 1])**2).mean())\n",
    "    print('x2 MAE:', np.abs(x_exact[:, 1] - x_phnn[:, 1]).mean())"
   ]
  },
  {
   "cell_type": "markdown",
   "id": "45f9bb03",
   "metadata": {},
   "source": [
    "#### Plotting"
   ]
  },
  {
   "cell_type": "code",
   "execution_count": null,
   "id": "5f2ad9c0",
   "metadata": {
    "scrolled": false
   },
   "outputs": [],
   "source": [
    "if system == 'tank':\n",
    "    fig = plt.figure(figsize=(15,5))\n",
    "    for i in range(0, pH_system.ntanks):\n",
    "        plt.plot(t_sample, x_exact[:,i+pH_system.npipes], color=colors[i], linestyle='dashed', label=f'tank {i+1}, exact')\n",
    "        plt.plot(t_sample, x_phnn[:,i+pH_system.npipes], color=colors[i], label=f'tank {i+1}, PHNN')\n",
    "    plt.xlabel(\"$t$\", fontsize=14)\n",
    "    plt.ylabel(\"$\\mu$\", fontsize=14)\n",
    "    plt.legend(loc='center left', bbox_to_anchor=(1, 0.5))\n",
    "    plt.title('Tank volumes')\n",
    "    plt.show()\n",
    "elif system == 'msd':\n",
    "    fig = plt.figure(figsize=(5,5))\n",
    "    plt.plot(x_exact[:,0], x_exact[:,1], color='k', linestyle='dashed', label=f'Exact')\n",
    "    plt.plot(x_phnn[:,0], x_phnn[:,1], color=colors[0], label=f'PHNN')\n",
    "    plt.xlabel(\"$q$\", fontsize=14)\n",
    "    plt.ylabel(\"$p$\", fontsize=14)\n",
    "    plt.legend(loc='center left', bbox_to_anchor=(1, 0.5))\n",
    "    plt.title('Phase plot')\n",
    "    plt.show()\n",
    "    fig = plt.figure(figsize=(15,5))\n",
    "    plt.plot(t_sample, x_exact[:,0], color='k', linestyle='dashed', label=f'Exact')\n",
    "    plt.plot(t_sample, x_phnn[:,0], color=colors[0], label=f'PHNN')\n",
    "    plt.xlabel(\"$t$\", fontsize=14)\n",
    "    plt.ylabel(\"$q$\", fontsize=14)\n",
    "    plt.legend(loc='center left', bbox_to_anchor=(1, 0.5))\n",
    "    plt.title('Position')\n",
    "    plt.show()\n",
    "    fig = plt.figure(figsize=(15,5))\n",
    "    plt.plot(t_sample, x_exact[:,1], color='k', linestyle='dashed', label=f'Exact')\n",
    "    plt.plot(t_sample, x_phnn[:,1], color=colors[0], label=f'PHNN')\n",
    "    plt.xlabel(\"$t$\", fontsize=14)\n",
    "    plt.ylabel(\"$p$\", fontsize=14)\n",
    "    plt.legend(loc='center left', bbox_to_anchor=(1, 0.5))\n",
    "    plt.title('Momentum')\n",
    "    plt.show()"
   ]
  },
  {
   "cell_type": "code",
   "execution_count": null,
   "id": "3e7b2576",
   "metadata": {},
   "outputs": [],
   "source": [
    "if isinstance(model, PseudoHamiltonianNN) or isinstance(model.rhs_model, BaselineSplitNN):\n",
    "    if system == 'tank':\n",
    "        fig = plt.figure(figsize=(15,5))\n",
    "        for i in range(0, pH_system.ntanks):\n",
    "            plt.plot(t_sample, F_exact[:,i+pH_system.npipes], color=colors[i], linestyle='dashed', label=f'tank {i+1}, exact')\n",
    "            if isinstance(model, PseudoHamiltonianNN):\n",
    "                try:\n",
    "                    plt.plot(t_sample, F_phnn[:,i+pH_system.npipes], color=colors[i], label=f'tank {i+1}, PHNN')\n",
    "                except:\n",
    "                    plt.plot(t_sample, F_phnn[i+pH_system.npipes]*np.ones_like(t_sample), color=colors[i], label=f'tank {i+1}, PHNN')\n",
    "            else:\n",
    "                plt.plot(t_sample, F_baseline[:,i+pH_system.npipes], color=colors[i], label=f'tank {i+1}, Baseline')\n",
    "        plt.xlabel(\"$t$\", fontsize=14)\n",
    "        plt.ylabel(\"$F$\", fontsize=14)\n",
    "        plt.title('Externel force')\n",
    "        plt.legend()\n",
    "        plt.show()\n",
    "    elif system == 'msd':\n",
    "        fig = plt.figure(figsize=(15,5))\n",
    "        plt.plot(t_sample, F_exact[:,-1], color='k', linestyle='dashed', label=f'Exact')\n",
    "        if isinstance(model, PseudoHamiltonianNN):\n",
    "            try:\n",
    "                plt.plot(t_sample, F_phnn[:,-1], color=colors[0], label=f'PHNN')\n",
    "            except:\n",
    "                plt.plot(t_sample, F_phnn[-1]*np.ones_like(t_sample), color=colors[0], label=f'PHNN')\n",
    "        else:\n",
    "            plt.plot(t_sample, F_baseline[:,-1], color=colors[0], label=f'Baseline')\n",
    "        plt.xlabel(\"$t$\", fontsize=14)\n",
    "        plt.ylabel(\"$F$\", fontsize=14)\n",
    "        plt.title('Externel force')\n",
    "        plt.legend()\n",
    "        plt.show()"
   ]
  },
  {
   "cell_type": "markdown",
   "id": "b2d24c61",
   "metadata": {},
   "source": [
    "### Comparing to baseline model"
   ]
  },
  {
   "cell_type": "markdown",
   "id": "95c3a6e0",
   "metadata": {},
   "source": [
    "Given that the above trained model is a PHNN model, we may wish to compare it to the appropriate baseline model."
   ]
  },
  {
   "cell_type": "code",
   "execution_count": null,
   "id": "427c0c4a",
   "metadata": {},
   "outputs": [],
   "source": [
    "if baseline != 0:\n",
    "    raise SystemExit('Stop here. We have already trained a baseline model.')"
   ]
  },
  {
   "cell_type": "code",
   "execution_count": null,
   "id": "b2513008",
   "metadata": {},
   "outputs": [],
   "source": [
    "if F_statedependent == True:\n",
    "    baseline_nn = BaselineNN(nstates, hidden_dim, timedependent=F_timedependent, statedependent=True)\n",
    "    baseline_model = DynamicSystemNN(nstates, baseline_nn)\n",
    "else:\n",
    "    external_forces_filter_t = np.zeros(nstates)\n",
    "    external_forces_filter_t[-1] = 1\n",
    "    baseline_nn = BaselineSplitNN(\n",
    "        nstates, hidden_dim, noutputs_x=nstates,\n",
    "        noutputs_t=1, external_forces_filter_x=None,\n",
    "        external_forces_filter_t=external_forces_filter_t,\n",
    "        ttype=ttype)\n",
    "    baseline_model = DynamicSystemNN(nstates, baseline_nn)\n",
    "optimizer = torch.optim.Adam(baseline_model.parameters(), lr=learning_rate, weight_decay=1e-4)"
   ]
  },
  {
   "cell_type": "code",
   "execution_count": null,
   "id": "5887deba",
   "metadata": {},
   "outputs": [],
   "source": [
    "baseline_model, _ = train(baseline_model, integrator, traindata, optimizer, valdata=valdata, epochs=epochs,\n",
    "                  batch_size=batch_size, shuffle=shuffle, l1_param_forces=l1_param_forces,\n",
    "                  l1_param_dissipation=l1_param_dissipation,\n",
    "                  loss_fn=torch.nn.MSELoss(), verbose=verbose, early_stopping_patience=early_stopping_patience,\n",
    "                  early_stopping_delta=early_stopping_delta)"
   ]
  },
  {
   "cell_type": "code",
   "execution_count": null,
   "id": "bd387bfb",
   "metadata": {},
   "outputs": [],
   "source": [
    "x_baseline, _ = baseline_model.simulate_trajectory(False, t_sample, x0=x0)"
   ]
  },
  {
   "cell_type": "code",
   "execution_count": null,
   "id": "dd942ff2",
   "metadata": {
    "scrolled": false
   },
   "outputs": [],
   "source": [
    "if system == 'tank':\n",
    "    for i in range(0, pH_system.ntanks):\n",
    "        fig = plt.figure(figsize=(15,5))\n",
    "        plt.plot(t_sample, x_exact[:,i+pH_system.npipes], color='k', linestyle='dashed', label='Exact solution')  \n",
    "        plt.plot(t_sample, x_baseline[:,i+pH_system.npipes], color=colors[1], label='Baseline NN')\n",
    "        plt.plot(t_sample, x_phnn[:,i+pH_system.npipes], color=colors[0], label='PHNN')\n",
    "        plt.xlabel(\"$t$\", fontsize=14)\n",
    "        plt.ylabel(\"$x$\", fontsize=14)\n",
    "        plt.title(f'Tank {i+1}')\n",
    "        plt.legend()\n",
    "        plt.show()\n",
    "elif system == 'msd':\n",
    "    fig = plt.figure(figsize=(5,5))\n",
    "    plt.plot(x_exact[:,0], x_exact[:,1], color='k', linestyle='dashed', label='Exact')\n",
    "    plt.plot(x_baseline[:,0], x_baseline[:,1], color=colors[1], label='Baseline')\n",
    "    plt.plot(x_phnn[:,0], x_phnn[:,1], color=colors[0], label='PHNN')\n",
    "    plt.xlabel(\"$t$\", fontsize=14)\n",
    "    plt.ylabel(\"$x$\", fontsize=14)\n",
    "    plt.legend(loc='center left', bbox_to_anchor=(1, 0.5))\n",
    "    plt.title('Phase plot')\n",
    "    plt.show()\n",
    "    fig = plt.figure(figsize=(15,5))\n",
    "    plt.plot(t_sample, x_exact[:,0], color='k', linestyle='dashed', label='Exact')\n",
    "    plt.plot(t_sample, x_baseline[:,0], color=colors[1], label='Baseline')\n",
    "    plt.plot(t_sample, x_phnn[:,0], color=colors[0], label='PHNN')\n",
    "    plt.xlabel(\"$t$\", fontsize=14)\n",
    "    plt.ylabel(\"$x$\", fontsize=14)\n",
    "    plt.legend(loc='center left', bbox_to_anchor=(1, 0.5))\n",
    "    plt.title('Position')\n",
    "    plt.show()\n",
    "    fig = plt.figure(figsize=(15,5))\n",
    "    plt.plot(t_sample, x_exact[:,1], color='k', linestyle='dashed', label='Exact')\n",
    "    plt.plot(t_sample, x_baseline[:,1], color=colors[1], label='Baseline')\n",
    "    plt.plot(t_sample, x_phnn[:,1], color=colors[0], label='PHNN')\n",
    "    plt.xlabel(\"$t$\", fontsize=14)\n",
    "    plt.ylabel(\"$x$\", fontsize=14)\n",
    "    plt.legend(loc='center left', bbox_to_anchor=(1, 0.5))\n",
    "    plt.title('Momentum')\n",
    "    plt.show()"
   ]
  },
  {
   "cell_type": "code",
   "execution_count": null,
   "id": "71bc3415",
   "metadata": {},
   "outputs": [],
   "source": [
    "if system == 'tank':\n",
    "    print('PHNN Tanks MSE:', ((pH_system.tanklevels(x_exact) - pH_system.tanklevels(x_phnn))**2).mean())\n",
    "    print('PHNN Pipes MSE:', ((pH_system.pipeflows(x_exact) - pH_system.pipeflows(x_phnn))**2).mean())\n",
    "    print('Baseline Tanks MSE:', ((pH_system.tanklevels(x_exact) - pH_system.tanklevels(x_baseline))**2).mean())\n",
    "    print('Baseline Pipes MSE:', ((pH_system.pipeflows(x_exact) - pH_system.pipeflows(x_baseline))**2).mean())\n",
    "else:\n",
    "    print('PHNN x1 MSE:', ((x_exact[:, 0] - x_phnn[:, 0])**2).mean())\n",
    "    print('PHNN x2 MSE:', ((x_exact[:, 1] - x_phnn[:, 1])**2).mean())\n",
    "    print('Baseline x1 MSE:', ((x_exact[:, 0] - x_baseline[:, 0])**2).mean())\n",
    "    print('Baseline x2 MSE:', ((x_exact[:, 1] - x_baseline[:, 1])**2).mean())"
   ]
  },
  {
   "cell_type": "code",
   "execution_count": null,
   "id": "e4544e7e",
   "metadata": {},
   "outputs": [],
   "source": [
    "if F_statedependent == False:\n",
    "    F_baseline = baseline_model.rhs_model.network_t(torch.tensor(x_phnn, dtype=ttype),\n",
    "                                 torch.tensor(t_sample.reshape(nsamples, 1), dtype=ttype)).detach().numpy()\n",
    "    F_baseline -= F_baseline.mean(axis=0)\n",
    "    if system == 'tank':\n",
    "        fig = plt.figure(figsize=(15,5))\n",
    "        for i in range(0, pH_system.ntanks):\n",
    "            plt.plot(t_sample, F_exact[:,i+pH_system.npipes], color=colors[i], linestyle='dashed', label=f'tank {i+1}, exact')\n",
    "            plt.plot(t_sample, F_baseline[:,i+pH_system.npipes], color=colors[i], linestyle='-.', label=f'tank {i+1}, Baseline')\n",
    "            plt.plot(t_sample, F_phnn[:,i+pH_system.npipes], color=colors[i], label=f'tank {i+1}, PHNN')\n",
    "        plt.xlabel(\"$t$\", fontsize=14)\n",
    "        plt.ylabel(\"$F$\", fontsize=14)\n",
    "        plt.title('Externel force')\n",
    "        plt.legend()\n",
    "        plt.show()\n",
    "    elif system == 'msd':\n",
    "        fig = plt.figure(figsize=(15,5))\n",
    "        plt.plot(t_sample, F_exact[:,-1], color='k', linestyle='dashed', label=f'Exact')\n",
    "        plt.plot(t_sample, F_baseline[:,-1], color=colors[1], linestyle='-', label=f'Baseline')\n",
    "        plt.plot(t_sample, F_phnn[:,-1], color=colors[0], label=f'PHNN')\n",
    "        plt.xlabel(\"$t$\", fontsize=14)\n",
    "        plt.ylabel(\"$F$\", fontsize=14)\n",
    "        plt.title('Externel force')\n",
    "        plt.legend()\n",
    "        plt.show()"
   ]
  },
  {
   "cell_type": "markdown",
   "id": "f733a0d4",
   "metadata": {},
   "source": [
    "### Removing the force(s)"
   ]
  },
  {
   "cell_type": "markdown",
   "id": "c04d3536",
   "metadata": {},
   "source": [
    "We can remove the force(s) from our learned model and thus predict future system states without external forces."
   ]
  },
  {
   "cell_type": "code",
   "execution_count": null,
   "id": "00b19f5b",
   "metadata": {},
   "outputs": [],
   "source": [
    "if system == 'tank':\n",
    "    pH_system_no_forces = TankSystem(system_graph=G_s, dissipation_pipes=R, J=J, A=A, external_forces=None, controller=None)\n",
    "elif system == 'msd':\n",
    "    pH_system_no_forces = MassSpringDamperSystem(mass=1.0, spring_constant=1.0, damping=0.3,\n",
    "                                       external_forces=None, init_sampler=initial_condition_radial(1, 4.5))"
   ]
  },
  {
   "cell_type": "markdown",
   "id": "cea2e1e4",
   "metadata": {},
   "source": [
    "Technically, if the external force is time dependent, we replace the learned external force with the mean of the external force. This is because the PHNN model is not able to separate constant terms between the internal system and the external forces."
   ]
  },
  {
   "cell_type": "code",
   "execution_count": null,
   "id": "cd29002c",
   "metadata": {},
   "outputs": [],
   "source": [
    "if F_timedependent:\n",
    "    def no_external_forces(x, t):\n",
    "        return torch.tensor(F_phnn_mean)*torch.ones_like(x)\n",
    "else:\n",
    "    def no_external_forces(x, t):\n",
    "        return torch.zeros_like(x)\n",
    "    \n",
    "phnn_model_no_forces = PseudoHamiltonianNN(nstates,\n",
    "                              pH_system.structure_matrix,\n",
    "                              hamiltonian_true=model.hamiltonian,\n",
    "                              dissipation_true=model.R().detach(),\n",
    "                              external_forces_true=no_external_forces)"
   ]
  },
  {
   "cell_type": "code",
   "execution_count": null,
   "id": "6648d4e3",
   "metadata": {},
   "outputs": [],
   "source": [
    "x_exact, _, _, _ = pH_system_no_forces.sample_trajectory(t_sample, x0=x0)\n",
    "x_phnn, _ = phnn_model_no_forces.simulate_trajectory(integrator=False, t_sample=t_sample, x0=x0)"
   ]
  },
  {
   "cell_type": "markdown",
   "id": "792649aa",
   "metadata": {},
   "source": [
    "#### Calculating errors:"
   ]
  },
  {
   "cell_type": "code",
   "execution_count": null,
   "id": "c760be01",
   "metadata": {},
   "outputs": [],
   "source": [
    "if system == 'tank':\n",
    "    print('Tanks MSE:', ((pH_system.tanklevels(x_exact) - pH_system_no_forces.tanklevels(x_phnn))**2).mean())\n",
    "    print('Pipes MSE:', ((pH_system.pipeflows(x_exact) - pH_system_no_forces.pipeflows(x_phnn))**2).mean())\n",
    "    print('Tanks MAE:', np.abs(pH_system.tanklevels(x_exact) - pH_system_no_forces.tanklevels(x_phnn)).mean())\n",
    "    print('Pipes MAE:', np.abs(pH_system.pipeflows(x_exact) - pH_system_no_forces.pipeflows(x_phnn)).mean())\n",
    "else:\n",
    "    print('x1 MSE:', ((x_exact[:, 0] - x_phnn[:, 0])**2).mean())\n",
    "    print('x1 MAE:', np.abs(x_exact[:, 0] - x_phnn[:, 0]).mean())\n",
    "    print('x2 MSE:', ((x_exact[:, 1] - x_phnn[:, 1])**2).mean())\n",
    "    print('x2 MAE:', np.abs(x_exact[:, 1] - x_phnn[:, 1]).mean())"
   ]
  },
  {
   "cell_type": "markdown",
   "id": "11056d23",
   "metadata": {},
   "source": [
    "#### Plotting:"
   ]
  },
  {
   "cell_type": "code",
   "execution_count": null,
   "id": "5021fad9",
   "metadata": {},
   "outputs": [],
   "source": [
    "if system == 'tank':\n",
    "    fig = plt.figure(figsize=(15,5))\n",
    "    for i in range(0, pH_system.ntanks):\n",
    "        plt.plot(t_sample, x_exact[:,i+pH_system.npipes], color=colors[i], linestyle='dashed', label=f'tank {i+1}, exact')\n",
    "        plt.plot(t_sample, x_phnn[:,i+pH_system.npipes], color=colors[i], label=f'tank {i+1}, PHNN')\n",
    "    plt.xlabel(\"$t$\", fontsize=14)\n",
    "    plt.ylabel(\"$\\mu$\", fontsize=14)\n",
    "    plt.legend(loc='center left', bbox_to_anchor=(1, 0.5))\n",
    "    plt.title('Tank volumes')\n",
    "    plt.show()\n",
    "elif system == 'msd':\n",
    "    fig = plt.figure(figsize=(5,5))\n",
    "    plt.plot(x_exact[:,0], x_exact[:,1], color='k', linestyle='dashed', label=f'Exact')\n",
    "    plt.plot(x_phnn[:,0], x_phnn[:,1], color=colors[0], label=f'PHNN')\n",
    "    plt.xlabel(\"$q$\", fontsize=14)\n",
    "    plt.ylabel(\"$p$\", fontsize=14)\n",
    "    plt.legend(loc='center left', bbox_to_anchor=(1, 0.5))\n",
    "    plt.title('Phase plot')\n",
    "    plt.show()\n",
    "    fig = plt.figure(figsize=(15,5))\n",
    "    plt.plot(t_sample, x_exact[:,0], color='k', linestyle='dashed', label=f'Exact')\n",
    "    plt.plot(t_sample, x_phnn[:,0], color=colors[0], label=f'PHNN')\n",
    "    plt.xlabel(\"$t$\", fontsize=14)\n",
    "    plt.ylabel(\"$q$\", fontsize=14)\n",
    "    plt.legend(loc='center left', bbox_to_anchor=(1, 0.5))\n",
    "    plt.title('Position')\n",
    "    plt.show()\n",
    "    fig = plt.figure(figsize=(15,5))\n",
    "    plt.plot(t_sample, x_exact[:,1], color='k', linestyle='dashed', label=f'Exact')\n",
    "    plt.plot(t_sample, x_phnn[:,1], color=colors[0], label=f'PHNN')\n",
    "    plt.xlabel(\"$t$\", fontsize=14)\n",
    "    plt.ylabel(\"$p$\", fontsize=14)\n",
    "    plt.legend(loc='center left', bbox_to_anchor=(1, 0.5))\n",
    "    plt.title('Momentum')\n",
    "    plt.show()"
   ]
  },
  {
   "cell_type": "code",
   "execution_count": null,
   "id": "d89d7908",
   "metadata": {},
   "outputs": [],
   "source": []
  },
  {
   "cell_type": "code",
   "execution_count": null,
   "id": "8ab6d1e1",
   "metadata": {},
   "outputs": [],
   "source": []
  }
 ],
 "metadata": {
  "kernelspec": {
   "display_name": "Python (phnn_pde)",
   "language": "python",
   "name": "phnn_pde"
  },
  "language_info": {
   "codemirror_mode": {
    "name": "ipython",
    "version": 3
   },
   "file_extension": ".py",
   "mimetype": "text/x-python",
   "name": "python",
   "nbconvert_exporter": "python",
   "pygments_lexer": "ipython3",
   "version": "3.10.9"
  },
  "vscode": {
   "interpreter": {
    "hash": "de8f7036492f2221b899c12d295b0848b9f217fc19a642db5f92284ec877b004"
   }
  }
 },
 "nbformat": 4,
 "nbformat_minor": 5
}

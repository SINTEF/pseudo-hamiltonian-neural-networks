{
 "cells": [
  {
   "cell_type": "markdown",
   "id": "decent-terror",
   "metadata": {},
   "source": [
    "# Pseudo-Hamiltonian neural networks"
   ]
  },
  {
   "attachments": {},
   "cell_type": "markdown",
   "id": "e22c6980",
   "metadata": {},
   "source": [
    "In this notebook, we will give an example of how to setup and train a neural network on simple harmonic oscillating spring with dissipation using `phlearn`. We will also demonstrate how to add an external force to the system, which can also be learnt by the pseudo-hamiltonian framework. \n",
    "\n",
    "For details, see [\"Pseudo-Hamiltonian Neural Networks with State-Dependent\n",
    "External Forces\"](https://arxiv.org/abs/2206.02660)."
   ]
  },
  {
   "cell_type": "code",
   "execution_count": null,
   "id": "8f119a43",
   "metadata": {},
   "outputs": [],
   "source": [
    "# Uncomment for local install: \n",
    "# %pip install -e ../phlearn "
   ]
  },
  {
   "cell_type": "code",
   "execution_count": null,
   "id": "conceptual-senator",
   "metadata": {},
   "outputs": [],
   "source": [
    "import numpy as np\n",
    "import torch\n",
    "import phlearn.phsystems as phsys\n",
    "import phlearn.phnns as phnn\n",
    "import matplotlib.pyplot as plt\n",
    "\n",
    "ttype = torch.float32\n",
    "torch.set_default_dtype(ttype)\n"
   ]
  },
  {
   "cell_type": "markdown",
   "id": "3ddfbb35",
   "metadata": {},
   "source": [
    "#### Set up the system\n",
    "\n",
    "Below is an example of how to set up a Hamiltonian system with linear dissipation using the PseudoHamiltonianSystem() class. The below block sets up the differential equation that will be used to generate the data. Initially, we will just create a simple harmonic oscilator with damping. "
   ]
  },
  {
   "cell_type": "code",
   "execution_count": null,
   "id": "5d97328e",
   "metadata": {},
   "outputs": [],
   "source": [
    "nstates = 2\n",
    "\n",
    "\n",
    "def setup_spring_system(\n",
    "    mass=1.0, spring_constant=1.0, damping=0.3, external_forces=None\n",
    "):\n",
    "    R = np.diag([0, damping])\n",
    "    M = np.diag([spring_constant / 2, 1 / (2 * mass)])\n",
    "\n",
    "    def hamiltonian(x):\n",
    "        return x.T @ M @ x\n",
    "\n",
    "    def hamiltonian_grad(x):\n",
    "        return 2 * M @ x\n",
    "\n",
    "    spring_system = phsys.PseudoHamiltonianSystem(\n",
    "        nstates=nstates,\n",
    "        hamiltonian=hamiltonian,\n",
    "        grad_hamiltonian=hamiltonian_grad,\n",
    "        dissipation_matrix=R,\n",
    "        external_forces=external_forces,\n",
    "    )\n",
    "\n",
    "    return spring_system\n",
    "\n",
    "\n",
    "spring_system = setup_spring_system()\n"
   ]
  },
  {
   "cell_type": "markdown",
   "id": "e1ce788f",
   "metadata": {},
   "source": [
    "#### Generate training data\n",
    "\n",
    "Use the `spring_system` instance to generate training data, which are numerical solutions to the exact ODE.  "
   ]
  },
  {
   "cell_type": "code",
   "execution_count": null,
   "id": "e13d2fa4",
   "metadata": {},
   "outputs": [],
   "source": [
    "def get_training_data(data_points=30000, dt=0.1, tmax=10):\n",
    "    nt = round(tmax / dt)\n",
    "    t_axis = np.linspace(0, tmax, nt + 1)\n",
    "    ntrajectories_train = int(np.ceil(data_points / nt))\n",
    "    traindata = phnn.generate_dataset(spring_system, ntrajectories_train, t_axis)\n",
    "    return traindata, t_axis\n",
    "\n",
    "\n",
    "traindata, t_axis = get_training_data()\n"
   ]
  },
  {
   "cell_type": "markdown",
   "id": "3a379aae",
   "metadata": {},
   "source": [
    "#### Set up the pseudo Hamiltonian neural network\n",
    "We create an instance of HamiltonianNN(), which is the untrained neural network used to approximate the Hamiltonian of the system. This is passed to the PseudoHamiltonianNN() class along with an instance of R_estimator(), which islearns the damping coefficient during training. \n",
    "\n",
    "We will allow additional keyword arguments to be passed to PseudoHamiltonianNN() so we have the option of adding an external force in the system."
   ]
  },
  {
   "cell_type": "code",
   "execution_count": null,
   "id": "8ab6d1e1",
   "metadata": {},
   "outputs": [],
   "source": [
    "def setup_pseudo_hamiltonian_nn(**kwargs):\n",
    "    states_dampened = np.diagonal(spring_system.dissipation_matrix) != 0\n",
    "    phmodel = phnn.PseudoHamiltonianNN(\n",
    "        nstates,\n",
    "        dissipation_est=phnn.R_estimator(states_dampened),\n",
    "        **kwargs,\n",
    "    )\n",
    "    return phmodel\n",
    "\n",
    "\n",
    "phmodel = setup_pseudo_hamiltonian_nn()\n"
   ]
  },
  {
   "attachments": {},
   "cell_type": "markdown",
   "id": "342992c4",
   "metadata": {},
   "source": [
    "#### Setup a baseline model\n",
    "To compare against PseudoHamiltonianNN() , we will create a baseline model which will approximate the dynamics using a standard fully connected multilayer perceptron. "
   ]
  },
  {
   "cell_type": "code",
   "execution_count": null,
   "id": "e6e521a3",
   "metadata": {},
   "outputs": [],
   "source": [
    "def setup_baseline_nn(hidden_dim=100):\n",
    "    baseline_nn = phnn.BaselineNN(nstates, hidden_dim)\n",
    "    basemodel = phnn.DynamicSystemNN(nstates, baseline_nn)\n",
    "    return basemodel\n",
    "\n",
    "\n",
    "basemodel = setup_baseline_nn()\n"
   ]
  },
  {
   "attachments": {},
   "cell_type": "markdown",
   "id": "18a8f4a1",
   "metadata": {},
   "source": [
    "#### Train the models"
   ]
  },
  {
   "cell_type": "code",
   "execution_count": null,
   "id": "f3b29ddd",
   "metadata": {},
   "outputs": [],
   "source": [
    "def train_models(*models, epochs=30, batch_size=32, **kwargs):\n",
    "    for model in models:\n",
    "        model, _ = phnn.train(\n",
    "            model,\n",
    "            integrator=\"midpoint\",\n",
    "            traindata=traindata,\n",
    "            epochs=epochs,\n",
    "            batch_size=batch_size,\n",
    "            **kwargs\n",
    "        )\n",
    "    return models\n",
    "\n",
    "\n",
    "phmodel, basemodel = train_models(phmodel, basemodel)\n"
   ]
  },
  {
   "attachments": {},
   "cell_type": "markdown",
   "id": "150df002",
   "metadata": {},
   "source": [
    "#### Plot the results\n",
    "\n",
    "In this cell we compare the learned damping constant against the true value and compare some trajectories against the exact solution. "
   ]
  },
  {
   "cell_type": "code",
   "execution_count": null,
   "id": "f328dad4",
   "metadata": {},
   "outputs": [],
   "source": [
    "def print_damping_constants():\n",
    "    learned_damping_constant = phmodel.R().detach().numpy()[1, 1]\n",
    "    true_damping_constant = spring_system.dissipation_matrix[1, 1]\n",
    "    print(\n",
    "        f\"true damping constant   : {true_damping_constant} \\\n",
    "        \\nlearned damping constant: {learned_damping_constant}\"\n",
    "    )\n",
    "\n",
    "\n",
    "def get_trajectories(x0, t_axis):\n",
    "    x_exact, *_ = spring_system.sample_trajectory(t_axis, x0=x0)\n",
    "    x_phnn, _ = phmodel.simulate_trajectory(integrator=False, t_sample=t_axis, x0=x0)\n",
    "    x_baseline, _ = basemodel.simulate_trajectory(\n",
    "        integrator=False, t_sample=t_axis, x0=x0\n",
    "    )\n",
    "    return x_exact, x_phnn, x_baseline\n",
    "\n",
    "\n",
    "def plot_trajectories(x_exact, x_phnn, x_baseline):\n",
    "    plt.figure(figsize=(5, 5))\n",
    "    plt.plot(x_exact[:, 0], x_exact[:, 1], color=\"k\", linestyle=\"dashed\", label=\"Exact\")\n",
    "    plt.plot(x_exact[0, 0], x_exact[0, 1], \"ko\")\n",
    "    plt.plot(x_phnn[:, 0], x_phnn[:, 1], label=\"PHNN\")\n",
    "    plt.plot(x_baseline[:, 0], x_baseline[:, 1], label=\"Baseline\")\n",
    "    plt.legend()\n",
    "    plt.title(\"Phase plot\")\n",
    "    plt.show()\n",
    "\n",
    "\n",
    "x_exact, x_phnn, x_baseline = get_trajectories(x0=[1, 0], t_axis=t_axis)\n",
    "print_damping_constants()\n",
    "plot_trajectories(x_exact, x_phnn, x_baseline)\n"
   ]
  },
  {
   "cell_type": "markdown",
   "id": "d5aab22b",
   "metadata": {},
   "source": [
    "### Learning an external force\n",
    "Here we will repeat the above process with the inclusion of an external force on the spring system. \n",
    "\n",
    "First we define the external force `F` that will be used to instantiate the `PseudoHamiltonianSystem` class. Next, we construct a neural network to learn this force using `ExternalForcesNN`, which is used to instantiate the `PseudoHamiltonianNN` class. "
   ]
  },
  {
   "cell_type": "code",
   "execution_count": null,
   "id": "ec9d77fb",
   "metadata": {},
   "outputs": [],
   "source": [
    "def F(x, t):\n",
    "    f0 = 0.5\n",
    "    omega = np.pi / 2\n",
    "    return np.array([0, f0 * np.sin(omega * t)])\n",
    "\n",
    "\n",
    "ext_forces_nn = phnn.ExternalForcesNN(\n",
    "    nstates=nstates,\n",
    "    noutputs=1,  # force affects one state variable only, specified by the parameter external_forces_filter\n",
    "    external_forces_filter=[\n",
    "        0,\n",
    "        1,\n",
    "    ],  # tells the NN to give output only in the second dimension\n",
    "    hidden_dim=100,\n",
    "    timedependent=True,\n",
    "    statedependent=False,  # force depends on time only\n",
    ")\n"
   ]
  },
  {
   "attachments": {},
   "cell_type": "markdown",
   "id": "edb6b9e4",
   "metadata": {},
   "source": [
    "Now we will repeat the setup, data generation and training steps with external forces. "
   ]
  },
  {
   "cell_type": "code",
   "execution_count": null,
   "id": "fb511af6",
   "metadata": {},
   "outputs": [],
   "source": [
    "spring_system = setup_spring_system(external_forces=F)\n",
    "phmodel = setup_pseudo_hamiltonian_nn(external_forces_est=ext_forces_nn)\n",
    "basemodel = setup_baseline_nn()\n",
    "traindata, t_axis = get_training_data(dt=0.1, tmax=10, data_points=50000)\n",
    "phmodel, basemodel = train_models(phmodel, basemodel)\n",
    "x_exact, x_phnn, x_baseline = get_trajectories(x0=[1, 0], t_axis=t_axis)\n",
    "print_damping_constants()\n",
    "plot_trajectories(x_exact, x_phnn, x_baseline)\n"
   ]
  }
 ],
 "metadata": {
  "kernelspec": {
   "display_name": "Python 3.9.6 ('venv': venv)",
   "language": "python",
   "name": "python3"
  },
  "language_info": {
   "codemirror_mode": {
    "name": "ipython",
    "version": 3
   },
   "file_extension": ".py",
   "mimetype": "text/x-python",
   "name": "python",
   "nbconvert_exporter": "python",
   "pygments_lexer": "ipython3",
   "version": "3.9.6"
  },
  "vscode": {
   "interpreter": {
    "hash": "9750f35fb4e247739abdd4f1bd3b23f35c1677f637abade63436e65eb57ee7de"
   }
  }
 },
 "nbformat": 4,
 "nbformat_minor": 5
}
